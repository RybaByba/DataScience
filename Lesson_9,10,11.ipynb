{
 "cells": [
  {
   "cell_type": "code",
   "execution_count": 4,
   "metadata": {},
   "outputs": [],
   "source": [
    "\n",
    "table_product = \"\"\"CREATE TABLE Product (\n",
    "                      part TEXT PRIMARY KEY, \n",
    "                      part_name TEXT NOT NULL,\n",
    "                      weight REAL\n",
    "                      )\"\"\"\n",
    "\n",
    "table_cost = \"\"\"CREATE TABLE Cost (\n",
    "                  part TEXT,\n",
    "                  cost_date DATETIME NOT NULL,\n",
    "                  cost REAl NOT NULL,\n",
    "                  FOREIGN KEY (part) REFERENCES Product (part)\n",
    "                  )\"\"\"\n",
    "\n",
    "table_stock = \"\"\"CREATE TABLE Stock (\n",
    "                  part TEXT,\n",
    "                  operation_date DATETIME NOT NULL,\n",
    "                  qty INTEGER NOT NULL,\n",
    "                  cost REAL  NOT NULL,\n",
    "                  operation_type TEXT NOT NULL,\n",
    "                  FOREIGN KEY (part) REFERENCES Product (part)\n",
    "                  )\"\"\"\n",
    "\n",
    "# створюємо таблиці в БД\n",
    "import sqlite3\n",
    "conn = sqlite3.connect('store.db')\n",
    "\n",
    "curs = conn.cursor()\n",
    "\n",
    "curs.execute(table_product)\n",
    "curs.execute(table_cost)\n",
    "curs.execute(table_stock)\n",
    "\n",
    "conn.close()"
   ]
  },
  {
   "cell_type": "code",
   "execution_count": 5,
   "metadata": {},
   "outputs": [
    {
     "name": "stdout",
     "output_type": "stream",
     "text": [
      "Введіть артикул товаруre509672\n",
      "Введіть назву товаруfilter\n",
      "Введіть вагу товару300\n"
     ]
    }
   ],
   "source": [
    "# вносимо інформацію в таблицю Prodcut\n",
    "\n",
    "conn = sqlite3.connect('store.db')\n",
    "curs = conn.cursor()\n",
    "sql_text = \"\"\"INSERT INTO Product VALUES(?, ?, ?)\"\"\"\n",
    "\n",
    "part = input('Введіть артикул товару')\n",
    "part_name = input('Введіть назву товару')\n",
    "weight = float(input('Введіть вагу товару'))\n",
    "\n",
    "curs.execute(sql_text, (part, part_name, weight))\n",
    "conn.commit()\n",
    "\n",
    "conn.close()"
   ]
  },
  {
   "cell_type": "code",
   "execution_count": 6,
   "metadata": {},
   "outputs": [
    {
     "name": "stdout",
     "output_type": "stream",
     "text": [
      "('re509672', 'filter', 300.0)\n"
     ]
    }
   ],
   "source": [
    "conn = sqlite3.connect('store.db')\n",
    "curs = conn.cursor()\n",
    "\n",
    "sql_text = \"SELECT * FROM Product\"\n",
    "\n",
    "curs.execute(sql_text)\n",
    "\n",
    "for el in curs.fetchall():\n",
    "    print(el)\n",
    "\n",
    "\n",
    "conn.close()"
   ]
  },
  {
   "cell_type": "code",
   "execution_count": 7,
   "metadata": {},
   "outputs": [
    {
     "name": "stdout",
     "output_type": "stream",
     "text": [
      "Введіть артикул товаруre509672\n",
      "Введіть ціну товару400\n"
     ]
    }
   ],
   "source": [
    "#записуємо ціну\n",
    "import datetime\n",
    "\n",
    "conn = sqlite3.connect('store.db')\n",
    "curs = conn.cursor()\n",
    "sql_text = \"\"\"INSERT INTO Cost VALUES(?, ?, ?)\"\"\"\n",
    "\n",
    "part = input('Введіть артикул товару')\n",
    "date = datetime.datetime.now()\n",
    "cost = float(input('Введіть ціну товару'))\n",
    "\n",
    "curs.execute(sql_text, (part, date, cost))\n",
    "conn.commit()\n",
    "\n",
    "conn.close()"
   ]
  },
  {
   "cell_type": "code",
   "execution_count": 8,
   "metadata": {},
   "outputs": [
    {
     "name": "stdout",
     "output_type": "stream",
     "text": [
      "Введіть артикул товаруre509672\n",
      "Введіть кількість товару1\n",
      "Введіть тип операції: 1-прихід || 2-розхід2\n"
     ]
    }
   ],
   "source": [
    "#записуємо розхід\n",
    "\n",
    "import datetime\n",
    "\n",
    "conn = sqlite3.connect('store.db')\n",
    "curs = conn.cursor()\n",
    "\n",
    "\n",
    "part = input('Введіть артикул товару')\n",
    "date = datetime.datetime.now()\n",
    "qty = int(input('Введіть кількість товару'))\n",
    "operation_type = input('Введіть тип операції: 1-прихід || 2-розхід')\n",
    "\n",
    "curs.execute(\"SELECT cost, cost_date FROM Cost WHERE part = (?) ORDER BY cost_date \", (part,) )\n",
    "\n",
    "cost = curs.fetchall()[-1][0]\n",
    "\n",
    "\n",
    "sql_text = \"\"\"INSERT INTO Stock VALUES(?, ?, ?, ?, ?)\"\"\"\n",
    "curs.execute(sql_text, (part, date, qty, cost, operation_type))\n",
    "conn.commit()\n",
    "\n",
    "conn.close()"
   ]
  },
  {
   "cell_type": "code",
   "execution_count": 9,
   "metadata": {},
   "outputs": [],
   "source": [
    "# почали писати на уроці і не закінчили. варіант рішення нижче\n",
    "# import requests \n",
    "# from bs4 import BeautifulSoup\n",
    "# r = requests.get('https://smallpacking.agrosem.ua/shop/')\n",
    "# soup = BeautifulSoup(r.text, 'html.parser')\n",
    "\n",
    "# all_products = {}\n",
    "\n",
    "# def get_soup(href):\n",
    "#     r = requests.get(href)\n",
    "#     soup = BeautifulSoup(r.text, 'html.parser')\n",
    "#     return soup\n",
    "\n",
    "# def product_informations(base, href):\n",
    "#     p = get_html_text(href)\n",
    "#     sku = p.find('span', class_='sku')\n",
    "#     print(sku)\n",
    "    \n",
    "    \n",
    "# def all_products_page(page_text):\n",
    "#     l = []\n",
    "#     for el in soup.find_all('div', class_=\"product-from-category-container\"):\n",
    "#         l.append(el.find('a').get('href'))\n",
    "#     return l\n",
    "        \n",
    "# def all_page(href):\n",
    "#     p = get_html_text(href)\n",
    "#     list_with_product = all_products_page(p)\n",
    "#     print(list_with_product)\n",
    "    \n",
    "# all_page('https://smallpacking.agrosem.ua/shop/')"
   ]
  },
  {
   "cell_type": "code",
   "execution_count": 10,
   "metadata": {},
   "outputs": [
    {
     "name": "stdout",
     "output_type": "stream",
     "text": [
      "Введіть артикул товаруre509672\n",
      "Введіть кількість товару1\n",
      "Введіть тип операції: 1-прихід || 2-розхід1\n"
     ]
    }
   ],
   "source": [
    "#записуємо прихід\n",
    "\n",
    "import datetime\n",
    "\n",
    "conn = sqlite3.connect('store.db')\n",
    "curs = conn.cursor()\n",
    "\n",
    "\n",
    "part = input('Введіть артикул товару')\n",
    "date = datetime.datetime.now()\n",
    "qty = int(input('Введіть кількість товару'))\n",
    "operation_type = input('Введіть тип операції: 1-прихід || 2-розхід')\n",
    "\n",
    "curs.execute(\"SELECT cost, cost_date FROM Cost WHERE part = (?) ORDER BY cost_date \", (part,) )\n",
    "\n",
    "cost = curs.fetchall()[-1][0]\n",
    "\n",
    "\n",
    "sql_text = \"\"\"INSERT INTO Stock VALUES(?, ?, ?, ?, ?)\"\"\"\n",
    "curs.execute(sql_text, (part, date, qty, cost, operation_type))\n",
    "conn.commit()\n",
    "\n",
    "conn.close()"
   ]
  },
  {
   "cell_type": "code",
   "execution_count": 11,
   "metadata": {},
   "outputs": [
    {
     "data": {
      "text/plain": [
       "{'797756': {'name': 'Добриво для винограду', 'price': 150.0, 'weight': 1},\n",
       " '8362626': {'name': 'Добриво для вічнозелених дерев та кущів',\n",
       "  'price': 150.0,\n",
       "  'weight': 1},\n",
       " '4738184': {'name': 'Добриво для вічнозелених дерев та кущів',\n",
       "  'price': 360.0,\n",
       "  'weight': 3},\n",
       " '5218': {'name': 'Добриво для вічнозелених дерев та кущів',\n",
       "  'price': 995.0,\n",
       "  'weight': 10},\n",
       " '7143174': {'name': 'Добриво для газону', 'price': 360.0, 'weight': 3},\n",
       " '375738': {'name': 'Добриво для газону', 'price': 995.0, 'weight': 10},\n",
       " '789868': {'name': 'Добриво для газону', 'price': 150.0, 'weight': 1},\n",
       " '78747': {'name': 'Добриво для декоративних листових',\n",
       "  'price': 360.0,\n",
       "  'weight': 3},\n",
       " '3593': {'name': 'Добриво для полуниці', 'price': 150.0, 'weight': 1},\n",
       " '33486': {'name': 'Добриво для декоративних листових',\n",
       "  'price': 150.0,\n",
       "  'weight': 1},\n",
       " '198742': {'name': 'Добриво для овочів', 'price': 360.0, 'weight': 3},\n",
       " '88255': {'name': 'Добриво для овочів', 'price': 150.0, 'weight': 1},\n",
       " '68183': {'name': 'Добриво для розсади', 'price': 150.0, 'weight': 1},\n",
       " '51561': {'name': 'Добриво для тепличних овочів',\n",
       "  'price': 150.0,\n",
       "  'weight': 1},\n",
       " '5656841': {'name': 'Добриво для тепличних овочів',\n",
       "  'price': 360.0,\n",
       "  'weight': 3},\n",
       " '2217672': {'name': 'Добриво для троянд', 'price': 150.0, 'weight': 1},\n",
       " '439226': {'name': 'Добриво для фруктових та горіхових дерев',\n",
       "  'price': 360.0,\n",
       "  'weight': 3},\n",
       " '3177412': {'name': 'Добриво для фруктових та горіхових дерев',\n",
       "  'price': 150.0,\n",
       "  'weight': 1},\n",
       " '1297': {'name': 'Добриво для ягідних чагарників',\n",
       "  'price': 360.0,\n",
       "  'weight': 3},\n",
       " '91897': {'name': 'Добриво для ягідних чагарників',\n",
       "  'price': 150.0,\n",
       "  'weight': 1},\n",
       " '61169': {'name': 'Добриво універсальне грунтове',\n",
       "  'price': 150.0,\n",
       "  'weight': 1},\n",
       " '6651824': {'name': 'Добриво універсальне грунтове',\n",
       "  'price': 360.0,\n",
       "  'weight': 3},\n",
       " '5227876': {'name': 'Добриво універсальне грунтове',\n",
       "  'price': 995.0,\n",
       "  'weight': 10},\n",
       " '32237': {'name': 'Добриво для декоративних листових',\n",
       "  'price': 360.0,\n",
       "  'weight': 3},\n",
       " '4165215': {'name': 'Добриво для вічнозелених дерев та кущів',\n",
       "  'price': 995.0,\n",
       "  'weight': 10},\n",
       " '682645': {'name': 'Добриво універсальне грунтове',\n",
       "  'price': 360.0,\n",
       "  'weight': 3},\n",
       " '7435': {'name': 'Добриво універсальне грунтове',\n",
       "  'price': 150.0,\n",
       "  'weight': 1},\n",
       " '9354141': {'name': 'Добриво для газону', 'price': 360.0, 'weight': 3},\n",
       " '1955': {'name': 'Добриво для вічнозелених дерев та кущів',\n",
       "  'price': 150.0,\n",
       "  'weight': 1},\n",
       " '455799': {'name': 'Добриво для газону', 'price': 150.0, 'weight': 1},\n",
       " '991645': {'name': 'Добриво для декоративних листових',\n",
       "  'price': 150.0,\n",
       "  'weight': 1},\n",
       " '726319': {'name': 'Добриво для вічнозелених дерев та кущів',\n",
       "  'price': 360.0,\n",
       "  'weight': 3},\n",
       " '16762': {'name': 'Добриво для газону', 'price': 995.0, 'weight': 10},\n",
       " '17477': {'name': 'Добриво універсальне грунтове',\n",
       "  'price': 995.0,\n",
       "  'weight': 10}}"
      ]
     },
     "execution_count": 11,
     "metadata": {},
     "output_type": "execute_result"
    }
   ],
   "source": [
    "import requests \n",
    "from bs4 import BeautifulSoup\n",
    "r = requests.get('https://smallpacking.agrosem.ua/shop/')\n",
    "soup = BeautifulSoup(r.text, 'html.parser')\n",
    "\n",
    "all_products = {}\n",
    "\n",
    "# def get_soup(href):\n",
    "#     r = requests.get(href)\n",
    "#     soup = BeautifulSoup(r.text, 'html.parser')\n",
    "#     return soup\n",
    "for i in range(1, 4):\n",
    "    r = requests.get(f'https://smallpacking.agrosem.ua/shop/page/{i}/')\n",
    "    soup = BeautifulSoup(r.text, 'html.parser')\n",
    "    for el in soup.find_all('div', class_=\"product-from-category-container\"):\n",
    "        href = el.find('a').get('href')\n",
    "        r = requests.get(href)\n",
    "        soup = BeautifulSoup(r.text, 'html.parser')\n",
    "        sku = soup.find('span', class_='sku').text.strip('SKU: ')\n",
    "        name = soup.find('div', class_=\"atributes-description\").find('h2').text\n",
    "        price = float(soup.find('span', class_='regular-price').text.rstrip(' грн'))\n",
    "        p = soup.find('span', class_=\"type-packaging-name\").text\n",
    "        if p == 'Коробка':\n",
    "            weight = 1\n",
    "        elif p == 'Мішок':\n",
    "            weight = 3\n",
    "        elif p == 'Відро':\n",
    "            weight = 10\n",
    "        else:\n",
    "            weight = None\n",
    "\n",
    "        all_products[sku] = {'name':name, 'price':price, 'weight':weight}\n",
    "        \n",
    "        \n",
    "all_products"
   ]
  },
  {
   "cell_type": "code",
   "execution_count": 12,
   "metadata": {},
   "outputs": [],
   "source": [
    "import sqlite3 \n",
    "conn = sqlite3.connect('store.db')\n",
    "curs = conn.cursor()\n",
    "curs.execute('DELETE FROM Product')\n",
    "\n",
    "sql_text = \"\"\"INSERT INTO Product VALUES(?, ?, ?)\"\"\"\n",
    "\n",
    "\n",
    "for k,v in all_products.items():\n",
    "    curs.execute(sql_text, (k, v['name'], v['weight']))\n",
    "    conn.commit()\n",
    "\n",
    "conn.close()"
   ]
  },
  {
   "cell_type": "code",
   "execution_count": 13,
   "metadata": {},
   "outputs": [
    {
     "name": "stdout",
     "output_type": "stream",
     "text": [
      "('797756', 'Добриво для винограду', 1.0)\n",
      "('8362626', 'Добриво для вічнозелених дерев та кущів', 1.0)\n",
      "('4738184', 'Добриво для вічнозелених дерев та кущів', 3.0)\n",
      "('5218', 'Добриво для вічнозелених дерев та кущів', 10.0)\n",
      "('7143174', 'Добриво для газону', 3.0)\n",
      "('375738', 'Добриво для газону', 10.0)\n",
      "('789868', 'Добриво для газону', 1.0)\n",
      "('78747', 'Добриво для декоративних листових', 3.0)\n",
      "('3593', 'Добриво для полуниці', 1.0)\n",
      "('33486', 'Добриво для декоративних листових', 1.0)\n",
      "('198742', 'Добриво для овочів', 3.0)\n",
      "('88255', 'Добриво для овочів', 1.0)\n",
      "('68183', 'Добриво для розсади', 1.0)\n",
      "('51561', 'Добриво для тепличних овочів', 1.0)\n",
      "('5656841', 'Добриво для тепличних овочів', 3.0)\n",
      "('2217672', 'Добриво для троянд', 1.0)\n",
      "('439226', 'Добриво для фруктових та горіхових дерев', 3.0)\n",
      "('3177412', 'Добриво для фруктових та горіхових дерев', 1.0)\n",
      "('1297', 'Добриво для ягідних чагарників', 3.0)\n",
      "('91897', 'Добриво для ягідних чагарників', 1.0)\n",
      "('61169', 'Добриво універсальне грунтове', 1.0)\n",
      "('6651824', 'Добриво універсальне грунтове', 3.0)\n",
      "('5227876', 'Добриво універсальне грунтове', 10.0)\n",
      "('32237', 'Добриво для декоративних листових', 3.0)\n",
      "('4165215', 'Добриво для вічнозелених дерев та кущів', 10.0)\n",
      "('682645', 'Добриво універсальне грунтове', 3.0)\n",
      "('7435', 'Добриво універсальне грунтове', 1.0)\n",
      "('9354141', 'Добриво для газону', 3.0)\n",
      "('1955', 'Добриво для вічнозелених дерев та кущів', 1.0)\n",
      "('455799', 'Добриво для газону', 1.0)\n",
      "('991645', 'Добриво для декоративних листових', 1.0)\n",
      "('726319', 'Добриво для вічнозелених дерев та кущів', 3.0)\n",
      "('16762', 'Добриво для газону', 10.0)\n",
      "('17477', 'Добриво універсальне грунтове', 10.0)\n"
     ]
    }
   ],
   "source": [
    "import sqlite3 \n",
    "conn = sqlite3.connect('store.db')\n",
    "curs = conn.cursor()\n",
    "curs.execute('SELECT * FROM Product')\n",
    "\n",
    "for el in curs.fetchall():\n",
    "    print(el)\n",
    "\n",
    "conn.close()"
   ]
  },
  {
   "cell_type": "code",
   "execution_count": 14,
   "metadata": {},
   "outputs": [],
   "source": [
    "import sqlite3 \n",
    "from datetime import datetime, timedelta\n",
    "import random\n",
    "conn = sqlite3.connect('store.db')\n",
    "curs = conn.cursor()\n",
    "\n",
    "\n",
    "sql_text = \"\"\"INSERT INTO Cost VALUES(?, ?, ?)\"\"\"\n",
    "\n",
    "\n",
    "for k,v in all_products.items():\n",
    "    curs.execute(sql_text, (k, datetime.now() + timedelta(days=random.randrange(100)), v['price']))\n",
    "    conn.commit()\n",
    "\n",
    "conn.close()"
   ]
  },
  {
   "cell_type": "code",
   "execution_count": null,
   "metadata": {},
   "outputs": [],
   "source": [
    "\"\"\"CREATE TABLE Stock (\n",
    "                  part TEXT,\n",
    "                  operation_date DATETIME NOT NULL,\n",
    "                  qty INTEGER NOT NULL,\n",
    "                  cost REAL  NOT NULL,\n",
    "                  operation_type TEXT NOT NULL,\n",
    "                  FOREIGN KEY (part) REFERENCES Product (part)\n",
    "                  )\"\"\""
   ]
  },
  {
   "cell_type": "code",
   "execution_count": 16,
   "metadata": {},
   "outputs": [],
   "source": [
    "import sqlite3 \n",
    "from datetime import datetime, timedelta\n",
    "import random\n",
    "conn = sqlite3.connect('store.db')\n",
    "curs = conn.cursor()\n",
    "\n",
    "\n",
    "sql_text = \"\"\"INSERT INTO Stock VALUES(?, ?, ?, ?, ?)\"\"\"\n",
    "\n",
    "def product_cost(part):\n",
    "    curs.execute(\"SELECT cost, cost_date FROM Cost WHERE part = (?) ORDER BY cost_date \", (part,) )\n",
    "    cost = curs.fetchall()[-1][0]\n",
    "    return cost\n",
    "\n",
    "for k in all_products:\n",
    "    for i in range(random.randrange(10)):\n",
    "        curs.execute(sql_text, (k \n",
    "                                ,datetime.now() + timedelta(days=random.randrange(50))\n",
    "                               , random.randrange(10, 20)\n",
    "                               , product_cost(k)\n",
    "                               , 'Розхід'))\n",
    "        conn.commit()\n",
    "\n",
    "conn.close()"
   ]
  },
  {
   "cell_type": "code",
   "execution_count": 17,
   "metadata": {},
   "outputs": [],
   "source": [
    "import sqlite3\n",
    "\n",
    "def result(sql_text):\n",
    "    conn = sqlite3.connect('store.db')\n",
    "    curs = conn.cursor()\n",
    "    curs.execute(sql_text)\n",
    "\n",
    "    for row in curs.fetchall():\n",
    "        print(row)\n",
    "\n",
    "    conn.close()"
   ]
  },
  {
   "cell_type": "code",
   "execution_count": 18,
   "metadata": {},
   "outputs": [
    {
     "name": "stdout",
     "output_type": "stream",
     "text": [
      "('re509672', '2020-12-15 15:50:42.258732', 1, 400.0, '2')\n",
      "('re509672', '2020-12-15 15:51:03.090322', 1, 400.0, '1')\n",
      "('797756', '2020-12-29 15:51:52.814457', 169, 150.0, 'Прихід')\n",
      "('797756', '2020-12-31 15:51:52.821436', 135, 150.0, 'Прихід')\n",
      "('8362626', '2021-01-23 15:51:52.825425', 106, 150.0, 'Прихід')\n",
      "('8362626', '2021-01-02 15:51:52.829414', 135, 150.0, 'Прихід')\n",
      "('8362626', '2021-01-06 15:51:52.834405', 193, 150.0, 'Прихід')\n",
      "('8362626', '2021-01-10 15:51:52.839391', 199, 150.0, 'Прихід')\n",
      "('8362626', '2021-01-17 15:51:52.845545', 156, 150.0, 'Прихід')\n",
      "('8362626', '2020-12-24 15:51:52.850598', 160, 150.0, 'Прихід')\n"
     ]
    }
   ],
   "source": [
    "# skripts:\n",
    "# 1. Вивести всю таблицю (10 позицій)\n",
    "#  2. Перейменувати стовбці \n",
    "#  3. Вивести собівартість всього складу\n",
    "#  4. Вивести товар (фільтр) \n",
    "#  5. Вивести прихід \n",
    "#  6. Вивести прихід більше 10 шт\n",
    "#  7. Вивести назви всі продуктів \n",
    "#  8. Вивести продукт, по якому був прихід максильний \n",
    "#  9. Вивести залишки товарів \n",
    "#  10. Вивести товари яких більше 10 \n",
    "#  11. Вести суму всього приходу по товарах \n",
    "#  12. Вивести прихід по товару, якого найбільше на складі \n",
    "#  13. Вивести приходи по місяцях \n",
    "#  14. Вивести залишки товарів та вагу \n",
    "#  15. Порахувати вартість 1 кг товару по кожному товару \n",
    "#  16. Вивести залишки товарів, вага яких більше 5 кг \n",
    "#  17. Порахувати ефективність закупки відносно останньої ціни \n",
    "#  18. Порахувати оборотність складу \n",
    "#  19. Вивести вартість складу в доларах ( на сьогоднішню дату)\n",
    "\n",
    "script_1 = \"\"\"\n",
    "SELECT *\n",
    "FROM Stock\n",
    "LIMIT 10\n",
    "\"\"\"\n",
    "result(script_1)"
   ]
  },
  {
   "cell_type": "code",
   "execution_count": 19,
   "metadata": {},
   "outputs": [
    {
     "name": "stdout",
     "output_type": "stream",
     "text": [
      "('re509672', 1)\n",
      "('re509672', 1)\n",
      "('797756', 169)\n",
      "('797756', 135)\n",
      "('8362626', 106)\n",
      "('8362626', 135)\n",
      "('8362626', 193)\n",
      "('8362626', 199)\n",
      "('8362626', 156)\n",
      "('8362626', 160)\n"
     ]
    }
   ],
   "source": [
    "\n",
    "script_2 = \"\"\"\n",
    "SELECT Part as p, Qty as q\n",
    "FROM STOCK\n",
    "LIMIT 10\n",
    "\"\"\"\n",
    "result(script_2)"
   ]
  },
  {
   "cell_type": "code",
   "execution_count": 20,
   "metadata": {},
   "outputs": [
    {
     "name": "stdout",
     "output_type": "stream",
     "text": [
      "('8362626', '2021-01-23 15:51:52.825425', 106, 150.0, 'Прихід')\n",
      "('8362626', '2021-01-02 15:51:52.829414', 135, 150.0, 'Прихід')\n",
      "('8362626', '2021-01-06 15:51:52.834405', 193, 150.0, 'Прихід')\n",
      "('8362626', '2021-01-10 15:51:52.839391', 199, 150.0, 'Прихід')\n",
      "('8362626', '2021-01-17 15:51:52.845545', 156, 150.0, 'Прихід')\n",
      "('8362626', '2020-12-24 15:51:52.850598', 160, 150.0, 'Прихід')\n",
      "('8362626', '2021-01-08 15:51:52.854358', 148, 150.0, 'Прихід')\n"
     ]
    }
   ],
   "source": [
    "script_4 = \"\"\"\n",
    "SELECT *\n",
    "FROM STOCK\n",
    "WHERE Part = '8362626'\n",
    "\"\"\"\n",
    "result(script_4)"
   ]
  },
  {
   "cell_type": "code",
   "execution_count": 21,
   "metadata": {},
   "outputs": [
    {
     "name": "stdout",
     "output_type": "stream",
     "text": [
      "('797756', '2020-12-29 15:51:52.814457', 169, 150.0, 'Прихід')\n",
      "('797756', '2020-12-31 15:51:52.821436', 135, 150.0, 'Прихід')\n",
      "('8362626', '2021-01-23 15:51:52.825425', 106, 150.0, 'Прихід')\n",
      "('8362626', '2021-01-02 15:51:52.829414', 135, 150.0, 'Прихід')\n",
      "('8362626', '2021-01-06 15:51:52.834405', 193, 150.0, 'Прихід')\n",
      "('8362626', '2021-01-10 15:51:52.839391', 199, 150.0, 'Прихід')\n",
      "('8362626', '2021-01-17 15:51:52.845545', 156, 150.0, 'Прихід')\n",
      "('8362626', '2020-12-24 15:51:52.850598', 160, 150.0, 'Прихід')\n",
      "('8362626', '2021-01-08 15:51:52.854358', 148, 150.0, 'Прихід')\n",
      "('4738184', '2021-01-28 15:51:52.860338', 105, 360.0, 'Прихід')\n"
     ]
    }
   ],
   "source": [
    "script_5 = \"\"\"\n",
    "SELECT *\n",
    "FROM STOCK\n",
    "WHERE operation_type = 'Прихід'\n",
    "LIMIT 10\n",
    "\"\"\"\n",
    "result(script_5)"
   ]
  },
  {
   "cell_type": "code",
   "execution_count": 22,
   "metadata": {},
   "outputs": [
    {
     "name": "stdout",
     "output_type": "stream",
     "text": [
      "(9539260.0,)\n"
     ]
    }
   ],
   "source": [
    "script_11 = \"\"\"\n",
    "SELECT SUM(cost*qty)\n",
    "FROM STOCK\n",
    "\"\"\"\n",
    "result(script_11)"
   ]
  },
  {
   "cell_type": "code",
   "execution_count": 22,
   "metadata": {},
   "outputs": [
    {
     "name": "stdout",
     "output_type": "stream",
     "text": [
      "('re509672',)\n",
      "('797756',)\n",
      "('8362626',)\n",
      "('4738184',)\n",
      "('5218',)\n",
      "('7143174',)\n",
      "('375738',)\n",
      "('789868',)\n",
      "('78747',)\n",
      "('3593',)\n",
      "('33486',)\n",
      "('198742',)\n",
      "('88255',)\n",
      "('68183',)\n",
      "('5656841',)\n",
      "('2217672',)\n",
      "('439226',)\n",
      "('1297',)\n",
      "('91897',)\n",
      "('61169',)\n",
      "('6651824',)\n",
      "('5227876',)\n",
      "('4165215',)\n",
      "('682645',)\n",
      "('7435',)\n",
      "('9354141',)\n",
      "('1955',)\n",
      "('455799',)\n",
      "('726319',)\n",
      "('16762',)\n",
      "('17477',)\n",
      "('51561',)\n",
      "('3177412',)\n",
      "('32237',)\n",
      "('991645',)\n"
     ]
    }
   ],
   "source": [
    "script_7 = \"\"\"\n",
    "SELECT DISTINCT Part\n",
    "FROM STOCK\n",
    "\"\"\"\n",
    "result(script_7)"
   ]
  },
  {
   "cell_type": "code",
   "execution_count": 23,
   "metadata": {},
   "outputs": [
    {
     "name": "stdout",
     "output_type": "stream",
     "text": [
      "('8362626', '2021-01-10 15:51:52.839391', 199, 150.0, 'Прихід')\n",
      "('375738', '2021-01-20 15:51:52.928197', 199, 995.0, 'Прихід')\n",
      "('3177412', '2021-01-25 15:51:53.108715', 199, 150.0, 'Прихід')\n"
     ]
    }
   ],
   "source": [
    "script_8 = \"\"\"\n",
    "SELECT *\n",
    "FROM Stock\n",
    "WHERE qty = (SELECT MAX(qty)\n",
    "             FROM Stock\n",
    "             WHERE operation_type = 'Прихід')\n",
    "\"\"\"\n",
    "result(script_8)"
   ]
  },
  {
   "cell_type": "code",
   "execution_count": 24,
   "metadata": {
    "scrolled": true
   },
   "outputs": [
    {
     "name": "stdout",
     "output_type": "stream",
     "text": [
      "('1297', 673)\n",
      "('16762', 309)\n",
      "('17477', 130)\n",
      "('1955', 512)\n",
      "('198742', 340)\n",
      "('3177412', 185)\n",
      "('32237', -36)\n",
      "('33486', 125)\n",
      "('3593', -10)\n",
      "('375738', 170)\n",
      "('4165215', 354)\n",
      "('439226', 821)\n",
      "('455799', 276)\n",
      "('4738184', 148)\n",
      "('51561', 261)\n",
      "('5218', 279)\n",
      "('5227876', 351)\n",
      "('5656841', -28)\n",
      "('6651824', -63)\n",
      "('68183', -19)\n",
      "('682645', 562)\n",
      "('7143174', 149)\n",
      "('726319', 324)\n",
      "('7435', 137)\n",
      "('78747', -16)\n",
      "('789868', -30)\n",
      "('797756', 292)\n",
      "('8362626', 160)\n",
      "('88255', -16)\n",
      "('91897', -14)\n",
      "('9354141', 496)\n",
      "('991645', -40)\n"
     ]
    }
   ],
   "source": [
    "script_9 = \"\"\"\n",
    "SELECT part, SUM(qty)\n",
    "FROM \n",
    "    (SELECT part, SUM(qty) as qty\n",
    "    FROM Stock\n",
    "    WHERE operation_type = 'Прихід' and operation_date < '2021-01-01'\n",
    "    GROUP BY part\n",
    "    \n",
    "\n",
    "    UNION \n",
    "\n",
    "    SELECT part, -SUM(qty)\n",
    "    FROM Stock\n",
    "    WHERE operation_type = 'Розхід' and  operation_date < '2021-01-01'\n",
    "    GROUP BY part)\n",
    "GROUP BY part\n",
    "\"\"\"\n",
    "result(script_9)"
   ]
  },
  {
   "cell_type": "code",
   "execution_count": 25,
   "metadata": {},
   "outputs": [
    {
     "name": "stdout",
     "output_type": "stream",
     "text": [
      "('1297', 1258)\n",
      "('16762', 1340)\n",
      "('1955', 1014)\n",
      "('682645', 1212)\n",
      "('726319', 1020)\n",
      "('8362626', 1097)\n",
      "('9354141', 1160)\n"
     ]
    }
   ],
   "source": [
    "script_9 = \"\"\"\n",
    "SELECT part, SUM(qty)\n",
    "FROM \n",
    "    (SELECT part, SUM(qty) as qty\n",
    "    FROM Stock\n",
    "    WHERE operation_type = 'Прихід' \n",
    "    GROUP BY part\n",
    "    \n",
    "\n",
    "    UNION \n",
    "\n",
    "    SELECT part, -SUM(qty)\n",
    "    FROM Stock\n",
    "    WHERE operation_type = 'Розхід' \n",
    "    GROUP BY part)\n",
    "    \n",
    "GROUP BY part\n",
    "HAVING SUM(qty) > 1000 \n",
    "\"\"\"\n",
    "result(script_9)"
   ]
  },
  {
   "cell_type": "code",
   "execution_count": 26,
   "metadata": {
    "scrolled": true
   },
   "outputs": [
    {
     "name": "stdout",
     "output_type": "stream",
     "text": [
      "('16762', '2020-12-21 15:51:53.411158', 173, 995.0, 'Прихід')\n",
      "('16762', '2021-01-23 15:51:53.415161', 144, 995.0, 'Прихід')\n",
      "('16762', '2021-01-22 15:51:53.419132', 134, 995.0, 'Прихід')\n",
      "('16762', '2020-12-27 15:51:53.423122', 136, 995.0, 'Прихід')\n",
      "('16762', '2021-01-22 15:51:53.427111', 155, 995.0, 'Прихід')\n",
      "('16762', '2021-01-16 15:51:53.431151', 179, 995.0, 'Прихід')\n",
      "('16762', '2021-01-09 15:51:53.434143', 156, 995.0, 'Прихід')\n",
      "('16762', '2021-01-17 15:51:53.438168', 134, 995.0, 'Прихід')\n",
      "('16762', '2021-01-12 15:51:53.442121', 144, 995.0, 'Прихід')\n"
     ]
    }
   ],
   "source": [
    "script_12 = \"\"\"\n",
    "SELECT *\n",
    "FROM Stock\n",
    "WHERE operation_type = 'Прихід'  AND part =  (SELECT Part\n",
    "    FROM \n",
    "        (SELECT Part, MAX(qty)\n",
    "        FROM \n",
    "            (SELECT part, SUM(qty) as qty\n",
    "            FROM \n",
    "                (SELECT part, SUM(qty) as qty\n",
    "                FROM Stock\n",
    "                WHERE operation_type = 'Прихід' \n",
    "                GROUP BY part\n",
    "\n",
    "\n",
    "                UNION \n",
    "\n",
    "                SELECT part, -SUM(qty)\n",
    "                FROM Stock\n",
    "                WHERE operation_type = 'Розхід' \n",
    "                GROUP BY part)\n",
    "\n",
    "            GROUP BY part)))\n",
    "\n",
    "\"\"\"\n",
    "result(script_12)\n",
    "# 1-й from вибрали залишки на складах\n",
    "# 2-й from вибрали товар з максимальним залишком на складах\n",
    "# 3-й from вибрали весьь прихід по товару, який має максимальний залишок"
   ]
  },
  {
   "cell_type": "code",
   "execution_count": 27,
   "metadata": {},
   "outputs": [
    {
     "name": "stdout",
     "output_type": "stream",
     "text": [
      "('2020', '12', 599)\n",
      "('2021', '01', 1302)\n",
      "('2021', '02', 157)\n"
     ]
    }
   ],
   "source": [
    "script_13 = \"\"\"\n",
    "SELECT strftime('%Y', operation_date), strftime('%m', operation_date),  SUM(qty)\n",
    "FROM Stock\n",
    "WHERE operation_type = 'Розхід'\n",
    "GROUP BY strftime('%Y', operation_date), strftime('%m', operation_date)\n",
    "\"\"\"\n",
    "result(script_11)"
   ]
  },
  {
   "cell_type": "code",
   "execution_count": null,
   "metadata": {},
   "outputs": [],
   "source": [
    "script_14 = \"\"\"\n",
    "SELECT t1.part, SUM(t1.qty), t2.weight * SUM(t1.qty)\n",
    "FROM \n",
    "    (SELECT part, SUM(qty) as qty\n",
    "    FROM Stock\n",
    "    WHERE operation_type = 'Прихід' \n",
    "    GROUP BY part\n",
    "    \n",
    "\n",
    "    UNION \n",
    "\n",
    "    SELECT part, -SUM(qty)\n",
    "    FROM Stock\n",
    "    WHERE operation_type = 'Розхід' \n",
    "    GROUP BY part) as t1\n",
    "INNER JOIN Product as t2 ON t1.part = t2.part\n",
    "    \n",
    "GROUP BY t1.part\n",
    "HAVING SUM(t1.qty) > 1000\n",
    "\"\"\"\n",
    "result(script_14)"
   ]
  }
 ],
 "metadata": {
  "kernelspec": {
   "display_name": "Python 3",
   "language": "python",
   "name": "python3"
  },
  "language_info": {
   "codemirror_mode": {
    "name": "ipython",
    "version": 3
   },
   "file_extension": ".py",
   "mimetype": "text/x-python",
   "name": "python",
   "nbconvert_exporter": "python",
   "pygments_lexer": "ipython3",
   "version": "3.7.6"
  }
 },
 "nbformat": 4,
 "nbformat_minor": 4
}
