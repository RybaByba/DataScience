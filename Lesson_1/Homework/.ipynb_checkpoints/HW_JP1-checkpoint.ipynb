{
 "cells": [
  {
   "cell_type": "markdown",
   "metadata": {},
   "source": [
    "## 1. Marcdown Cells\n",
    "* Hi, is it Main Academy?\n",
    "* All HTML tabs are supported!\n",
    "* My linkedin page [Linkedin](https://www.linkedin.com/in/alena-pylova-ba065610b/)\n"
   ]
  },
  {
   "cell_type": "markdown",
   "metadata": {},
   "source": [
    "# This is Heading 1"
   ]
  },
  {
   "cell_type": "markdown",
   "metadata": {},
   "source": [
    "## This is Heading 2"
   ]
  },
  {
   "cell_type": "markdown",
   "metadata": {},
   "source": [
    "some gray colored text:\n",
    "> This where we can bring qoutes and present them nicely"
   ]
  },
  {
   "cell_type": "markdown",
   "metadata": {},
   "source": [
    "And this is the paragraph about something very important. Even Math:\n",
    "**$$y_{sub} =\\sqrt{x_{(sub)}}$$**"
   ]
  },
  {
   "cell_type": "markdown",
   "metadata": {},
   "source": [
    "or Python code example:\n",
    "```python\n",
    "import math\n",
    "def foo()\n",
    "     retern\"foo\"\n",
    " ```"
   ]
  },
  {
   "cell_type": "markdown",
   "metadata": {},
   "source": [
    "Here is the sample mean:"
   ]
  },
  {
   "cell_type": "markdown",
   "metadata": {},
   "source": [
    "$\\bar{ y} = \\frac1 n\\displaystyle\\sum_{i=1}^n y^i$"
   ]
  },
  {
   "cell_type": "markdown",
   "metadata": {},
   "source": [
    "Here is the sample variance:"
   ]
  },
  {
   "cell_type": "markdown",
   "metadata": {},
   "source": [
    "$\\sigma^2 = \\dfrac{\\displaystyle\\sum_{i=1}^n (y_i-\\bar{y})^2}{n-1}$"
   ]
  },
  {
   "cell_type": "markdown",
   "metadata": {},
   "source": [
    "Here is the sample standart deviation:"
   ]
  },
  {
   "cell_type": "markdown",
   "metadata": {},
   "source": [
    "$\\sigma=\\sqrt{\\dfrac{\\displaystyle\\sum_{i=1}^n (y_i-\\bar{y})^2}{n-1}}$"
   ]
  },
  {
   "cell_type": "code",
   "execution_count": null,
   "metadata": {},
   "outputs": [],
   "source": []
  }
 ],
 "metadata": {
  "kernelspec": {
   "display_name": "Python 3",
   "language": "python",
   "name": "python3"
  },
  "language_info": {
   "codemirror_mode": {
    "name": "ipython",
    "version": 3
   },
   "file_extension": ".py",
   "mimetype": "text/x-python",
   "name": "python",
   "nbconvert_exporter": "python",
   "pygments_lexer": "ipython3",
   "version": "3.7.6"
  }
 },
 "nbformat": 4,
 "nbformat_minor": 4
}
