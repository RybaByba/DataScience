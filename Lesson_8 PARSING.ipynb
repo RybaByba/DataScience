{
 "cells": [
  {
   "cell_type": "code",
   "execution_count": 5,
   "metadata": {},
   "outputs": [],
   "source": [
    "\n",
    "import requests\n",
    "from bs4 import BeautifulSoup\n",
    "\n",
    "r = requests.get('https://sweet.tv/movies/multfilmi')\n",
    "soup = BeautifulSoup(r.text, 'html.parser')\n"
   ]
  },
  {
   "cell_type": "code",
   "execution_count": 6,
   "metadata": {},
   "outputs": [
    {
     "name": "stdout",
     "output_type": "stream",
     "text": [
      "{'Ґрінч': {'href': 'https://sweet.tv/movie/17966-grinch', 'people': ['Бенедикт Камбербетч', 'Рашида Джонс', 'Кенан Томпсон', 'Скотт Моужер', 'Карлос Алазракі', 'Френк Велкер']}, 'Поллі Покет: 2 Сезон': {'href': 'https://sweet.tv/movie/20822-polli-poket-2-sezon', 'people': ['Шеннон Чан-Кент', 'Девід Кей', 'Маріка Хендрікс']}, 'Альфа та Омега: Зубата братва': {'href': 'https://sweet.tv/movie/6120-alfa-ta-omega-zubata-bratva', 'people': ['Хейден Панеттьер', 'Джастін Лонг', 'Денніс Хоппер', 'Денні Гловер', 'Вікі Льюїс', 'Кевін Суссман', 'Кріс Кармак', 'Брайан Донован', 'Ларрі Міллер']}, 'Смурфики': {'href': 'https://sweet.tv/movie/7351-smurfiki', 'people': ['Ніл Патрік Харріс', 'Jayma Mays', 'Софія Вергара', 'Джонатан Вінтерс', 'Алан Каммінг', 'Кеті Перрі', 'Фред Арбісен', 'Джордж Лопес', 'Антон Єльчин']}, 'Пожежник Сем: 8 Сезон': {'href': 'https://sweet.tv/movie/20808-pozhezhnik-sem-8-sezon', 'people': ['Девід Карлинг', 'Су Дуглас', 'Стівен Кінмен', 'Ешлі Мегвуд']}, 'Полювання на монстра': {'href': 'https://sweet.tv/movie/9135-polyuvannya-na-monstra', 'people': ['У Цзян', 'Це нормально', 'цзин Божань', 'Елейн Цін', 'Уоллес Чун']}, 'Шерлок Гномс': {'href': 'https://sweet.tv/movie/16183-sherlok-gnoms', 'people': ['Джонні Депп', 'Емілі Блант', 'Джеймс МакЕвой', 'Чіветель Еджіофор', 'Мері Джей Блайдж']}, 'Ману': {'href': 'https://sweet.tv/movie/20795-manu', 'people': ['Віллем Дефо', 'Кейт Уінслет', 'Роб Полсен', 'Джош Кітон']}, 'Риф. Нові пригоди': {'href': 'https://sweet.tv/movie/20794-rif-novi-prigodi', 'people': ['Марк Хемміл', 'Рон Перлман', 'Елісон Вандзура']}, 'Монстр у Парижі': {'href': 'https://sweet.tv/movie/6875-monstr-u-parizhi', 'people': ['Ванесса Параді', 'Боб Белабан', 'Гад Елмалех', 'Франсуа Клузет', 'Людівін Саньє', 'Джулі Феррієр', 'Бруно Саломон', \"Філіп Пейт'є\", 'Матьє Шедід']}, 'Супер шістка': {'href': 'https://sweet.tv/movie/16478-super-shistka', 'people': ['Скотт Едсіт', 'Райан Поттер', 'ТіДжей Міллер', 'Джеймі Джилін Чун', 'Деніел Хенні']}, 'Індики: повернення в майбутнє': {'href': 'https://sweet.tv/movie/7954-indiki-povernennya-v-maybutnye', 'people': ['Оуен Вілсон', 'Вуді Гаррельсон', 'Емі Полер', 'Джордж Такей', 'Колм Міні', 'Кіт Девід', 'Ден Фоглер', 'Джиммі Хейворд', 'Кайтлін Махер', 'Карлос Алазракі', 'Джошуа Лоусон', 'Карлос Понсе', 'Скотт Моужер']}, 'Ніко 2': {'href': 'https://sweet.tv/movie/7232-niko-2', 'people': ['Юха Вейхонен', 'Карі Кетонен', 'Еліна Кніхтіля', 'Пертті Койвула']}, 'Темна Ліга Справедливості: Війна Апокаліпса': {'href': 'https://sweet.tv/movie/20463-temna-liga-spravedlivosti-viyna-apokalipsa', 'people': ['Метт Райан', \"Джеррі О'Коннелл\", 'Таісса Фарміга', 'Джейсон О`Мара', 'Розаріо Доусон', 'Ребекка Ромейн', 'Рей Вілсон', 'Тоні Тодд', 'Шемар Мур', 'Кріс Горем', 'Ліам Макінтайр', 'Роджер Крос', 'Джон Ді Маджіо', 'Метт Лантер', 'Шон Астін', 'Джо Беннсе']}, 'Реальна білка 2': {'href': 'https://sweet.tv/movie/11911-realna-bilka-2', 'people': ['Уілл Арнетт', 'Кетрін Хайгл', 'Майя Рудольф', 'Габріель Іглесіас', 'Ізабелла Монер', 'Джекі Чан', 'Боббі Мойнихан', 'Пітер Стормар', 'Боббі Каннавале', 'Джефф Данхем']}, 'Повернення гномів': {'href': 'https://sweet.tv/movie/20777-povernennya-gnomiv', 'people': ['Єла Хаазе', 'Луїс Хофманн', 'Леон Зейдель']}, 'Коко': {'href': 'https://sweet.tv/movie/19876-koko', 'people': ['Гаель Гарсія Бернал', 'Бенджамін Братт', 'Аланна Юбак', 'Едвард Джеймс Олмос', 'Джеймі Каміл', 'Ломбардо Бойер', 'Габріель Іглесіас', 'Чич Марін', 'Едді Сантьяго']}, 'Бджілка Майя: 2 Сезон': {'href': 'https://sweet.tv/movie/11561-bdzhilka-mayya-2-sezon', 'people': ['Ной Тейлор', 'Річард Роксбург', 'Коко Джек Гілліс', 'Ніна Шаттон', 'Коді Сміт-Макфі']}, 'Інуї: 2 сезон': {'href': 'https://sweet.tv/movie/16546-inuji-2-sezon', 'people': []}, 'Таємна місія Санти': {'href': 'https://sweet.tv/movie/7276-tayemna-misiya-santi', 'people': ['Юкка Нілунд', 'Паула Весала', 'Кіті Кокконен']}, 'Робокар Полі 2 сезон': {'href': 'https://sweet.tv/movie/20760-robokar-poli-2-sezon', 'people': ['Джейсон Гріффіт', 'Вероніка Тейлор', 'Марк Томпсон', 'Ребекка Солер', 'Ейлін Стівенс']}, 'Супер монстри: 2 сезон': {'href': 'https://sweet.tv/movie/20759-super-monstri-2-sezon', 'people': ['Андреа Лібман']}, 'Angry Birds у кіно 2': {'href': 'https://sweet.tv/movie/17780-angry-birds-u-kino-2', 'people': ['Джейсон Судейкіс', 'Джош Гад', 'Леслі Джонс', 'Білл Хейдер', 'Стерлінг К. Браун', 'Еудженіо Дербес', 'Денні Макбрайд', 'Пітер Дінклейдж', 'Дав Камерон']}, 'Ведмедики Буні: Стрибок у минуле': {'href': 'https://sweet.tv/movie/20697-vedmediki-buni-stribok-u-minule', 'people': ['Чжан Вей', 'Чжан Бинцзюнь', 'Тань Сяо', 'Сун Цзуер']}, 'Єті': {'href': 'https://sweet.tv/movie/19490-yeti', 'people': ['Хлоя Беннет', 'Едді Іззард', 'Сара Полсон', 'Джеймс Хонг']}, 'Інуї: 1 сезон': {'href': 'https://sweet.tv/movie/11566-inuji-1-sezon', 'people': []}, 'Робокар Полі': {'href': 'https://sweet.tv/movie/7773-robokar-poli', 'people': []}, 'Добрий динозавр': {'href': 'https://sweet.tv/movie/20347-dobriy-dinozavr', 'people': ['Френсіс Макдорманд', 'Джеффрі Райт', 'Стів Зан', 'Сем Елліотт', 'Анна Пекуін', 'Dave Boat']}, 'Подружки-супергерої: 1 Сезон': {'href': 'https://sweet.tv/movie/17241-podruzhki-supergeroji-1-sezon', 'people': []}, 'Людина-павук: Навколо всесвіту': {'href': 'https://sweet.tv/movie/17809-lyudina-pavuk-navkolo-vsesvitu', 'people': ['Джейк Джонсон', 'Хейлі Стейнфілд', 'Брайан Тайрі Генрі', 'Лілі Томлін', 'Лорен Луна Велес', 'Зої Кравіц', 'Ніколас Кейдж', 'Кетрін Хан', 'Лів Шрайбер', 'Кріс Пайн', 'Оскар Ісаак', 'Стен Лі', 'Йорма Такконе', 'Хоакін Козіо', 'Лейк Белл', 'Лекс Ланг', 'Крістофер Міллер']}}\n"
     ]
    }
   ],
   "source": [
    "all_movies = {}\n",
    "\n",
    "for el in soup.find_all('li', class_= 'film-item-container'):\n",
    "    name_movie = el.find('a').get('title')\n",
    "    all_movies[name_movie] = {'href': el.find('a').get('href')}\n",
    "\n",
    "all_movies\n",
    "\n",
    "def req(href):\n",
    "    r = requests.get(href)\n",
    "    soup = BeautifulSoup(r.text, 'html.parser')\n",
    "    return soup\n",
    "    \n",
    "\n",
    "\n",
    "for movie in all_movies:\n",
    "    soup = req(all_movies[movie]['href'])\n",
    "    people = []\n",
    "    for el in soup.find_all('a', itemprop=\"actor\"):\n",
    "        people.append(el.text)\n",
    "    all_movies[movie]['people'] = people\n",
    "    \n",
    "print(all_movies)"
   ]
  },
  {
   "cell_type": "code",
   "execution_count": 8,
   "metadata": {},
   "outputs": [],
   "source": [
    "import datetime"
   ]
  },
  {
   "cell_type": "code",
   "execution_count": 9,
   "metadata": {},
   "outputs": [],
   "source": [
    "d = datetime.date(2021, 11, 11)"
   ]
  },
  {
   "cell_type": "code",
   "execution_count": 10,
   "metadata": {},
   "outputs": [
    {
     "data": {
      "text/plain": [
       "'2021-11-11'"
      ]
     },
     "execution_count": 10,
     "metadata": {},
     "output_type": "execute_result"
    }
   ],
   "source": [
    "d.isoformat()"
   ]
  },
  {
   "cell_type": "code",
   "execution_count": 11,
   "metadata": {},
   "outputs": [
    {
     "data": {
      "text/plain": [
       "'my date 00'"
      ]
     },
     "execution_count": 11,
     "metadata": {},
     "output_type": "execute_result"
    }
   ],
   "source": [
    "d.strftime('my date %M')"
   ]
  },
  {
   "cell_type": "code",
   "execution_count": 12,
   "metadata": {},
   "outputs": [
    {
     "data": {
      "text/plain": [
       "datetime.datetime(2020, 12, 2, 14, 58, 29, 730210)"
      ]
     },
     "execution_count": 12,
     "metadata": {},
     "output_type": "execute_result"
    }
   ],
   "source": [
    "datetime.datetime.now() - datetime.timedelta(days=1)"
   ]
  },
  {
   "cell_type": "code",
   "execution_count": 13,
   "metadata": {},
   "outputs": [
    {
     "data": {
      "text/plain": [
       "datetime.datetime(1970, 1, 1, 0, 0)"
      ]
     },
     "execution_count": 13,
     "metadata": {},
     "output_type": "execute_result"
    }
   ],
   "source": [
    "datetime.datetime.strptime(\"01-01-1970\", \"%d-%m-%Y\")"
   ]
  },
  {
   "cell_type": "code",
   "execution_count": 37,
   "metadata": {},
   "outputs": [
    {
     "name": "stdout",
     "output_type": "stream",
     "text": [
      "{'r030': 36, 'txt': 'Австралійський долар', 'rate': 16.7522, 'cc': 'AUD', 'exchangedate': '02.02.2020'}\n",
      "{'r030': 124, 'txt': 'Канадський долар', 'rate': 18.8606, 'cc': 'CAD', 'exchangedate': '02.02.2020'}\n",
      "{'r030': 156, 'txt': 'Юань Женьмiньбi', 'rate': 3.6031, 'cc': 'CNY', 'exchangedate': '02.02.2020'}\n",
      "{'r030': 191, 'txt': 'Куна', 'rate': 3.6919, 'cc': 'HRK', 'exchangedate': '02.02.2020'}\n",
      "{'r030': 203, 'txt': 'Чеська крона', 'rate': 1.0884, 'cc': 'CZK', 'exchangedate': '02.02.2020'}\n",
      "{'r030': 208, 'txt': 'Данська крона', 'rate': 3.6765, 'cc': 'DKK', 'exchangedate': '02.02.2020'}\n",
      "{'r030': 344, 'txt': 'Гонконгівський долар', 'rate': 3.2079, 'cc': 'HKD', 'exchangedate': '02.02.2020'}\n",
      "{'r030': 348, 'txt': 'Форинт', 'rate': 0.081198, 'cc': 'HUF', 'exchangedate': '02.02.2020'}\n",
      "{'r030': 356, 'txt': 'Індійська рупія', 'rate': 0.34855, 'cc': 'INR', 'exchangedate': '02.02.2020'}\n",
      "{'r030': 360, 'txt': 'Рупія', 'rate': 0.0018247, 'cc': 'IDR', 'exchangedate': '02.02.2020'}\n",
      "{'r030': 376, 'txt': 'Новий ізраїльський шекель', 'rate': 7.2158, 'cc': 'ILS', 'exchangedate': '02.02.2020'}\n",
      "{'r030': 392, 'txt': 'Єна', 'rate': 0.22891, 'cc': 'JPY', 'exchangedate': '02.02.2020'}\n",
      "{'r030': 398, 'txt': 'Теньге', 'rate': 0.065709, 'cc': 'KZT', 'exchangedate': '02.02.2020'}\n",
      "{'r030': 410, 'txt': 'Вона', 'rate': 0.021028, 'cc': 'KRW', 'exchangedate': '02.02.2020'}\n",
      "{'r030': 484, 'txt': 'Мексиканське песо', 'rate': 1.3278, 'cc': 'MXN', 'exchangedate': '02.02.2020'}\n",
      "{'r030': 498, 'txt': 'Молдовський лей', 'rate': 1.418, 'cc': 'MDL', 'exchangedate': '02.02.2020'}\n",
      "{'r030': 554, 'txt': 'Новозеландський долар', 'rate': 16.2015, 'cc': 'NZD', 'exchangedate': '02.02.2020'}\n",
      "{'r030': 578, 'txt': 'Норвезька крона', 'rate': 2.7005, 'cc': 'NOK', 'exchangedate': '02.02.2020'}\n",
      "{'r030': 643, 'txt': 'Російський рубль', 'rate': 0.3946, 'cc': 'RUB', 'exchangedate': '02.02.2020'}\n",
      "{'r030': 682, 'txt': 'Саудівський рiял', 'rate': 6.642, 'cc': 'SAR', 'exchangedate': '02.02.2020'}\n",
      "{'r030': 702, 'txt': 'Сінгапурський долар', 'rate': 18.291, 'cc': 'SGD', 'exchangedate': '02.02.2020'}\n",
      "{'r030': 710, 'txt': 'Ренд', 'rate': 1.691, 'cc': 'ZAR', 'exchangedate': '02.02.2020'}\n",
      "{'r030': 752, 'txt': 'Шведська крона', 'rate': 2.5818, 'cc': 'SEK', 'exchangedate': '02.02.2020'}\n",
      "{'r030': 756, 'txt': 'Швейцарський франк', 'rate': 25.7022, 'cc': 'CHF', 'exchangedate': '02.02.2020'}\n",
      "{'r030': 818, 'txt': 'Єгипетський фунт', 'rate': 1.5753, 'cc': 'EGP', 'exchangedate': '02.02.2020'}\n",
      "{'r030': 826, 'txt': 'Фунт стерлінгів', 'rate': 32.6372, 'cc': 'GBP', 'exchangedate': '02.02.2020'}\n",
      "{'r030': 840, 'txt': 'Долар США', 'rate': 24.9196, 'cc': 'USD', 'exchangedate': '02.02.2020'}\n",
      "{'r030': 933, 'txt': 'Бiлоруський рубль', 'rate': 11.6528, 'cc': 'BYN', 'exchangedate': '02.02.2020'}\n",
      "{'r030': 944, 'txt': 'Азербайджанський манат', 'rate': 14.6741, 'cc': 'AZN', 'exchangedate': '02.02.2020'}\n",
      "{'r030': 946, 'txt': 'Румунський лей', 'rate': 5.7522, 'cc': 'RON', 'exchangedate': '02.02.2020'}\n",
      "{'r030': 949, 'txt': 'Турецька ліра', 'rate': 4.1659, 'cc': 'TRY', 'exchangedate': '02.02.2020'}\n",
      "{'r030': 960, 'txt': 'СПЗ (спеціальні права запозичення)', 'rate': 34.336, 'cc': 'XDR', 'exchangedate': '02.02.2020'}\n",
      "{'r030': 975, 'txt': 'Болгарський лев', 'rate': 14.0479, 'cc': 'BGN', 'exchangedate': '02.02.2020'}\n",
      "{'r030': 978, 'txt': 'Євро', 'rate': 27.4751, 'cc': 'EUR', 'exchangedate': '02.02.2020'}\n",
      "{'r030': 985, 'txt': 'Злотий', 'rate': 6.411, 'cc': 'PLN', 'exchangedate': '02.02.2020'}\n",
      "{'r030': 12, 'txt': 'Алжирський динар', 'rate': 0.20865, 'cc': 'DZD', 'exchangedate': '02.02.2020'}\n",
      "{'r030': 50, 'txt': 'Така', 'rate': 0.29481, 'cc': 'BDT', 'exchangedate': '02.02.2020'}\n",
      "{'r030': 51, 'txt': 'Вірменський драм', 'rate': 0.052297, 'cc': 'AMD', 'exchangedate': '02.02.2020'}\n",
      "{'r030': 364, 'txt': 'Іранський ріал', 'rate': 0.00059594, 'cc': 'IRR', 'exchangedate': '02.02.2020'}\n",
      "{'r030': 368, 'txt': 'Іракський динар', 'rate': 0.021033, 'cc': 'IQD', 'exchangedate': '02.02.2020'}\n",
      "{'r030': 417, 'txt': 'Сом', 'rate': 0.35833, 'cc': 'KGS', 'exchangedate': '02.02.2020'}\n",
      "{'r030': 422, 'txt': 'Ліванський фунт', 'rate': 0.016603, 'cc': 'LBP', 'exchangedate': '02.02.2020'}\n",
      "{'r030': 434, 'txt': 'Лівійський динар', 'rate': 17.8297, 'cc': 'LYD', 'exchangedate': '02.02.2020'}\n",
      "{'r030': 458, 'txt': 'Малайзійський ринггіт', 'rate': 6.1079, 'cc': 'MYR', 'exchangedate': '02.02.2020'}\n",
      "{'r030': 504, 'txt': 'Марокканський дирхам', 'rate': 2.6026, 'cc': 'MAD', 'exchangedate': '02.02.2020'}\n",
      "{'r030': 608, 'txt': 'Філіппінське песо', 'rate': 0.49181, 'cc': 'PHP', 'exchangedate': '02.02.2020'}\n",
      "{'r030': 704, 'txt': 'Донг', 'rate': 0.0010798, 'cc': 'VND', 'exchangedate': '02.02.2020'}\n",
      "{'r030': 764, 'txt': 'Бат', 'rate': 0.80289, 'cc': 'THB', 'exchangedate': '02.02.2020'}\n",
      "{'r030': 784, 'txt': 'Дирхам ОАЕ', 'rate': 6.8144, 'cc': 'AED', 'exchangedate': '02.02.2020'}\n",
      "{'r030': 788, 'txt': 'Туніський динар', 'rate': 8.8804, 'cc': 'TND', 'exchangedate': '02.02.2020'}\n",
      "{'r030': 860, 'txt': 'Узбецький сум', 'rate': 0.0026172, 'cc': 'UZS', 'exchangedate': '02.02.2020'}\n",
      "{'r030': 901, 'txt': 'Новий тайванський долар', 'rate': 0.82769, 'cc': 'TWD', 'exchangedate': '02.02.2020'}\n",
      "{'r030': 934, 'txt': 'Туркменський новий манат', 'rate': 7.1513, 'cc': 'TMT', 'exchangedate': '02.02.2020'}\n",
      "{'r030': 936, 'txt': 'Ганське седі', 'rate': 4.5488, 'cc': 'GHS', 'exchangedate': '02.02.2020'}\n",
      "{'r030': 941, 'txt': 'Сербський динар', 'rate': 0.23519, 'cc': 'RSD', 'exchangedate': '02.02.2020'}\n",
      "{'r030': 972, 'txt': 'Сомоні', 'rate': 2.5824, 'cc': 'TJS', 'exchangedate': '02.02.2020'}\n",
      "{'r030': 981, 'txt': 'Ларі', 'rate': 8.6712, 'cc': 'GEL', 'exchangedate': '02.02.2020'}\n",
      "{'r030': 986, 'txt': 'Бразильський реал', 'rate': 5.8635, 'cc': 'BRL', 'exchangedate': '02.02.2020'}\n",
      "{'r030': 959, 'txt': 'Золото', 'rate': 39333.1, 'cc': 'XAU', 'exchangedate': '02.02.2020'}\n",
      "{'r030': 961, 'txt': 'Срiбло', 'rate': 442.07, 'cc': 'XAG', 'exchangedate': '02.02.2020'}\n",
      "{'r030': 962, 'txt': 'Платина', 'rate': 24252, 'cc': 'XPT', 'exchangedate': '02.02.2020'}\n",
      "{'r030': 964, 'txt': 'Паладiй', 'rate': 56630.04, 'cc': 'XPD', 'exchangedate': '02.02.2020'}\n"
     ]
    },
    {
     "ename": "NameError",
     "evalue": "name 'url' is not defined",
     "output_type": "error",
     "traceback": [
      "\u001b[1;31m---------------------------------------------------------------------------\u001b[0m",
      "\u001b[1;31mNameError\u001b[0m                                 Traceback (most recent call last)",
      "\u001b[1;32m<ipython-input-37-a714ef190e92>\u001b[0m in \u001b[0;36m<module>\u001b[1;34m\u001b[0m\n\u001b[0;32m     22\u001b[0m     \u001b[0mprint\u001b[0m\u001b[1;33m(\u001b[0m\u001b[0mel\u001b[0m\u001b[1;33m)\u001b[0m\u001b[1;33m\u001b[0m\u001b[1;33m\u001b[0m\u001b[0m\n\u001b[0;32m     23\u001b[0m \u001b[1;33m\u001b[0m\u001b[0m\n\u001b[1;32m---> 24\u001b[1;33m \u001b[0mprint\u001b[0m\u001b[1;33m(\u001b[0m\u001b[0murl\u001b[0m\u001b[1;33m)\u001b[0m\u001b[1;33m\u001b[0m\u001b[1;33m\u001b[0m\u001b[0m\n\u001b[0m\u001b[0;32m     25\u001b[0m \u001b[1;33m\u001b[0m\u001b[0m\n",
      "\u001b[1;31mNameError\u001b[0m: name 'url' is not defined"
     ]
    }
   ],
   "source": [
    "import datetime\n",
    "# birthday = input(\"ввести дату народження >>> \")\n",
    "# delta = datetime.datetime.now() - datetime.datetime.strptime(birthday, \"%d-%m-%Y\")\n",
    "# delta.days\n",
    "\n",
    "from bs4 import BeautifulSoup\n",
    "import requests\n",
    "from datetime import timedelta\n",
    "r = requests.get('https://bank.gov.ua/NBUStatService/v1/statdirectory/exchange?date=20200202&json').json()\n",
    "\n",
    "# first_date = input(\"ввести дату з якої почати виводити інформацію про курс валют >>>\")\n",
    "\n",
    "# delta = datetime.datetime.first_date - datetime.timedelta(days=-365)\n",
    "# soup = BeautifulSoup(r.text, 'html.parser')\n",
    "\n",
    "# # last_date = datetime.datetime(2020, 12, 31)\n",
    "# delta = datetime.datetime.now() - datetime.datetime.strptime(first_date, \"%d-%m-%Y\")\n",
    "# delta.days\n",
    "\n",
    "\n",
    "for el in (r):\n",
    "    print(el)\n",
    "\n",
    "print(url)\n",
    "\n"
   ]
  },
  {
   "cell_type": "code",
   "execution_count": null,
   "metadata": {},
   "outputs": [],
   "source": []
  },
  {
   "cell_type": "code",
   "execution_count": null,
   "metadata": {},
   "outputs": [],
   "source": []
  },
  {
   "cell_type": "code",
   "execution_count": null,
   "metadata": {},
   "outputs": [],
   "source": []
  }
 ],
 "metadata": {
  "kernelspec": {
   "display_name": "Python 3",
   "language": "python",
   "name": "python3"
  },
  "language_info": {
   "codemirror_mode": {
    "name": "ipython",
    "version": 3
   },
   "file_extension": ".py",
   "mimetype": "text/x-python",
   "name": "python",
   "nbconvert_exporter": "python",
   "pygments_lexer": "ipython3",
   "version": "3.7.6"
  }
 },
 "nbformat": 4,
 "nbformat_minor": 4
}
