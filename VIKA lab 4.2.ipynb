{
 "cells": [
  {
   "cell_type": "code",
   "execution_count": 1,
   "metadata": {},
   "outputs": [],
   "source": [
    "# 2. вивести інформацію про базу даних\n",
    "# 3. вивести перелік всіх таблиць\n",
    "\n",
    "import sqlite3\n",
    "\n",
    "def execute_req(sql_text, *args):\n",
    "    conn = sqlite3.connect('tysql.sqlite')\n",
    "    curs = conn.cursor()\n",
    "    result = curs.execute(sql_text,(*args,)).fetchall()\n",
    "    conn.close()\n",
    "    return result\n",
    "\n",
    "def execute_with_print(sql_text):\n",
    "    r = execute_req(sql_text)\n",
    "    for row in r:\n",
    "        print(row)"
   ]
  },
  {
   "cell_type": "code",
   "execution_count": 2,
   "metadata": {},
   "outputs": [
    {
     "name": "stdout",
     "output_type": "stream",
     "text": [
      "Таблиці у БД:\n",
      "Customers\n",
      "OrderItems\n",
      "Orders\n",
      "Products\n",
      "Vendors\n"
     ]
    }
   ],
   "source": [
    "\n",
    "# List all tables in db\n",
    "\n",
    "all_tables = execute_req('SELECT name from sqlite_master where type= \"table\"')\n",
    "all_tables = [t[0] for t in all_tables]\n",
    "print('Таблиці у БД:')\n",
    "for t in all_tables:\n",
    "    print(t)"
   ]
  },
  {
   "cell_type": "code",
   "execution_count": 3,
   "metadata": {},
   "outputs": [
    {
     "name": "stdout",
     "output_type": "stream",
     "text": [
      "Інформація про поля таблиць:\n",
      "\n",
      "#, name, value_type, is_nullable, column_default, foreign key\n",
      "\n",
      "Customers\n",
      "(0, 'cust_id', 'char(10)', 1, None, 1)\n",
      "(1, 'cust_name', 'char(50)', 1, None, 0)\n",
      "(2, 'cust_address', 'char(50)', 0, None, 0)\n",
      "(3, 'cust_city', 'char(50)', 0, None, 0)\n",
      "(4, 'cust_state', 'char(5)', 0, None, 0)\n",
      "(5, 'cust_zip', 'char(10)', 0, None, 0)\n",
      "(6, 'cust_country', 'char(50)', 0, None, 0)\n",
      "(7, 'cust_contact', 'char(50)', 0, None, 0)\n",
      "(8, 'cust_email', 'char(255)', 0, None, 0)\n",
      "\n",
      "OrderItems\n",
      "(0, 'order_num', 'int', 1, None, 1)\n",
      "(1, 'order_item', 'int', 1, None, 2)\n",
      "(2, 'prod_id', 'char(10)', 1, None, 0)\n",
      "(3, 'quantity', 'int', 1, None, 0)\n",
      "(4, 'item_price', 'decimal(8,2)', 1, None, 0)\n",
      "\n",
      "Orders\n",
      "(0, 'order_num', 'int', 1, None, 1)\n",
      "(1, 'order_date', 'datetime', 1, None, 0)\n",
      "(2, 'cust_id', 'char(10)', 1, None, 0)\n",
      "\n",
      "Products\n",
      "(0, 'prod_id', 'char(10)', 1, None, 1)\n",
      "(1, 'vend_id', 'char(10)', 1, None, 0)\n",
      "(2, 'prod_name', 'char(255)', 1, None, 0)\n",
      "(3, 'prod_price', 'decimal(8,2)', 1, None, 0)\n",
      "(4, 'prod_desc', 'text', 0, None, 0)\n",
      "\n",
      "Vendors\n",
      "(0, 'vend_id', 'char(10)', 1, None, 1)\n",
      "(1, 'vend_name', 'char(50)', 1, None, 0)\n",
      "(2, 'vend_address', 'char(50)', 0, None, 0)\n",
      "(3, 'vend_city', 'char(50)', 0, None, 0)\n",
      "(4, 'vend_state', 'char(5)', 0, None, 0)\n",
      "(5, 'vend_zip', 'char(10)', 0, None, 0)\n",
      "(6, 'vend_country', 'char(50)', 0, None, 0)\n",
      "\n"
     ]
    }
   ],
   "source": [
    "# List all columns and their properties\n",
    "\n",
    "print('Інформація про поля таблиць:\\n')\n",
    "print('#, name, value_type, is_nullable, column_default, foreign key\\n')\n",
    "for t in all_tables:\n",
    "    print(t)\n",
    "    sql_text = \"PRAGMA table_info (%s)\" %t\n",
    "    execute_with_print(sql_text)\n",
    "    print()"
   ]
  },
  {
   "cell_type": "code",
   "execution_count": 4,
   "metadata": {},
   "outputs": [
    {
     "name": "stdout",
     "output_type": "stream",
     "text": [
      "Customers\n",
      "PRIMARY KEY (cust_id)\n",
      "\n",
      "OrderItems\n",
      "PRIMARY KEY (order_num, order_item)                   ,\n",
      "  FOREIGN KEY (order_num) REFERENCES Orders (order_num) ,\n",
      "  FOREIGN KEY (prod_id) REFERENCES Products (prod_id)\n",
      "\n",
      "Orders\n",
      "PRIMARY KEY (order_num)      ,\n",
      "  FOREIGN KEY (cust_id) REFERENCES Customers (cust_id)\n",
      "\n",
      "Products\n",
      "PRIMARY KEY (prod_id)             ,\n",
      "  FOREIGN KEY (vend_id) REFERENCES Vendors (vend_id)\n",
      "\n",
      "Vendors\n",
      "PRIMARY KEY (vend_id)\n",
      "\n"
     ]
    }
   ],
   "source": [
    "# Information about primary and foreign keys\n",
    "'''\n",
    "Даний запит поветрає CREATE statement, за яким було створено таблицю\n",
    "tbl_name = назва таблиці\n",
    "'''\n",
    "sql_text=\"\"\"SELECT sql FROM sqlite_master\n",
    "    WHERE tbl_name = ? AND type = 'table'\"\"\"\n",
    "\n",
    "for t in all_tables:\n",
    "    '''\n",
    "    #після create_statement = execute_req(sql_text, t,)[0][0] отримуємо список з 1 елементом, який є кортежем\n",
    "    щоб дістатися до стрічки у кортежі звертаємось до елемента [0][0]\n",
    "    '''\n",
    "    create_statement = execute_req(sql_text, t,)[0][0]  \n",
    "    \n",
    "    \n",
    "    '''\n",
    "    Шукаємо у CREATE statement 'PRIMARY KEY'. Якщо у таблиці є FOREIGN KEY, це буде вказано після PRIMARY KEY \n",
    "    '''\n",
    "    pk = create_statement[create_statement.find('PRIMARY KEY'):].rstrip(',\\n)')+')' \n",
    "    print(t+'\\n'+ pk+'\\n')"
   ]
  },
  {
   "cell_type": "code",
   "execution_count": null,
   "metadata": {},
   "outputs": [],
   "source": []
  }
 ],
 "metadata": {
  "kernelspec": {
   "display_name": "Python 3",
   "language": "python",
   "name": "python3"
  },
  "language_info": {
   "codemirror_mode": {
    "name": "ipython",
    "version": 3
   },
   "file_extension": ".py",
   "mimetype": "text/x-python",
   "name": "python",
   "nbconvert_exporter": "python",
   "pygments_lexer": "ipython3",
   "version": "3.7.6"
  }
 },
 "nbformat": 4,
 "nbformat_minor": 4
}
