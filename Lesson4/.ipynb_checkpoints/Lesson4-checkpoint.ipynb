{
 "cells": [
  {
   "cell_type": "code",
   "execution_count": 1,
   "metadata": {},
   "outputs": [
    {
     "data": {
      "text/plain": [
       "{1, 2, 3, 5, 10}"
      ]
     },
     "execution_count": 1,
     "metadata": {},
     "output_type": "execute_result"
    }
   ],
   "source": [
    "#new_set = srt()\n",
    "new_set ={1,2,3,5,10,10}\n",
    "new_set"
   ]
  },
  {
   "cell_type": "code",
   "execution_count": 3,
   "metadata": {},
   "outputs": [
    {
     "data": {
      "text/plain": [
       "{1, 2, 3, 5, 10, 11}"
      ]
     },
     "execution_count": 3,
     "metadata": {},
     "output_type": "execute_result"
    }
   ],
   "source": [
    "new_set.add(11)\n",
    "new_set"
   ]
  },
  {
   "cell_type": "code",
   "execution_count": 11,
   "metadata": {},
   "outputs": [],
   "source": [
    "student_python = {'Ihor', 'Maria', 'Eva', 'Vasya'}\n",
    "student_ds = {'Eva','Oleg', 'Anton', 'Maria'}"
   ]
  },
  {
   "cell_type": "code",
   "execution_count": 12,
   "metadata": {},
   "outputs": [
    {
     "data": {
      "text/plain": [
       "{'Anton', 'Eva', 'Ihor', 'Maria', 'Oleg', 'Vasya'}"
      ]
     },
     "execution_count": 12,
     "metadata": {},
     "output_type": "execute_result"
    }
   ],
   "source": [
    "student_ds | student_python"
   ]
  },
  {
   "cell_type": "code",
   "execution_count": 15,
   "metadata": {},
   "outputs": [
    {
     "data": {
      "text/plain": [
       "{'Eva', 'Maria'}"
      ]
     },
     "execution_count": 15,
     "metadata": {},
     "output_type": "execute_result"
    }
   ],
   "source": [
    "student_ds & student_python"
   ]
  },
  {
   "cell_type": "code",
   "execution_count": 14,
   "metadata": {},
   "outputs": [
    {
     "data": {
      "text/plain": [
       "{'Anton', 'Oleg'}"
      ]
     },
     "execution_count": 14,
     "metadata": {},
     "output_type": "execute_result"
    }
   ],
   "source": [
    "student_ds - student_python"
   ]
  },
  {
   "cell_type": "code",
   "execution_count": 1,
   "metadata": {},
   "outputs": [
    {
     "name": "stdout",
     "output_type": "stream",
     "text": [
      "Alena\n",
      "A\n",
      "l\n",
      "e\n",
      "n\n",
      "a\n"
     ]
    }
   ],
   "source": [
    "name = input()\n",
    "for i in name:\n",
    "    print(i)"
   ]
  },
  {
   "cell_type": "code",
   "execution_count": null,
   "metadata": {},
   "outputs": [],
   "source": [
    "number1 = int(input())\n",
    "number2 = int(input())\n",
    "if "
   ]
  },
  {
   "cell_type": "code",
   "execution_count": 18,
   "metadata": {},
   "outputs": [
    {
     "name": "stdout",
     "output_type": "stream",
     "text": [
      "введіть 10 чисел1234567891\n",
      "46\n"
     ]
    }
   ],
   "source": [
    "numbers = list(input('введіть 10 чисел'))\n",
    "numbers = [int(i) for i in numbers]\n",
    "suma = sum(numbers)\n",
    "print(suma)"
   ]
  },
  {
   "cell_type": "code",
   "execution_count": 7,
   "metadata": {},
   "outputs": [
    {
     "name": "stdout",
     "output_type": "stream",
     "text": [
      "Random list [4, 54, 6, 37, 57, 100, 87, 1, 27, 92]\n",
      "Paired [4, 54, 6, 100, 92]\n",
      "Non Paired [37, 57, 87, 1, 27]\n"
     ]
    }
   ],
   "source": [
    "import random\n",
    "new_list = []\n",
    "\n",
    "new_list =  [random.randint(1, 100) for x in range(10)]\n",
    "\n",
    "paired_numbers=[x for x in new_list if x % 2 == 0]\n",
    "non_paired_numbers=[x for x in new_list if x % 2 != 0]\n",
    "\n",
    "print(f\"Random list {new_list}\")\n",
    "print(f\"Paired {paired_numbers}\")\n",
    "print(f\"Non Paired {non_paired_numbers}\")\n"
   ]
  },
  {
   "cell_type": "code",
   "execution_count": 9,
   "metadata": {},
   "outputs": [
    {
     "name": "stdout",
     "output_type": "stream",
     "text": [
      "[79, 12, 7, 54, 27, 92, 48, 85, 29, 63]\n",
      "[12, 54, 92, 48]\n",
      "[0, 2, 4, 7, 8, 9]\n"
     ]
    }
   ],
   "source": [
    "new_list = []\n",
    "paired_numbers = []\n",
    "invalid_numbers = []\n",
    "count = 0\n",
    "\n",
    "for i in range(10):\n",
    "    new_list.append(random.randint(1, 100))\n",
    "print(new_list)\n",
    "\n",
    "for i in new_list:\n",
    "    count += 1\n",
    "    # print(\"i=\",i)\n",
    "    if i % 2 == 0:\n",
    "        paired_numbers.append(i)\n",
    "    if i % 2 != 0:\n",
    "        invalid_numbers.append(count-1)\n",
    "\n",
    "print(paired_numbers)\n",
    "print(invalid_numbers)\n"
   ]
  },
  {
   "cell_type": "code",
   "execution_count": 17,
   "metadata": {},
   "outputs": [
    {
     "name": "stdout",
     "output_type": "stream",
     "text": [
      "1\n",
      "2\n",
      "stop\n",
      "1.5\n"
     ]
    }
   ],
   "source": [
    "my_list = []\n",
    "while True:\n",
    "    n = input()\n",
    "    if n == 'stop':\n",
    "        break\n",
    "        \n",
    "    my_list.append(int(n))\n",
    "    \n",
    "#statistics.median (my_list)   \n",
    "my_list.sort()\n",
    "\n",
    "if len(my_list) % 2 == 0:\n",
    "    i1 = len(my_list) // 2\n",
    "    i2 = len(my_list) // 2 - 1\n",
    "    print((my_list[i1] + my_list[i2]) / 2)\n",
    "else:\n",
    "    i = len(my_list) // 2\n",
    "    print(my_list[i])\n",
    "    "
   ]
  },
  {
   "cell_type": "code",
   "execution_count": 23,
   "metadata": {},
   "outputs": [
    {
     "name": "stdout",
     "output_type": "stream",
     "text": [
      "на нуль ділити не можна\n"
     ]
    }
   ],
   "source": [
    "try:\n",
    "    1/0\n",
    "except:\n",
    "    print('на нуль ділити не можна')"
   ]
  },
  {
   "cell_type": "code",
   "execution_count": null,
   "metadata": {},
   "outputs": [
    {
     "name": "stdout",
     "output_type": "stream",
     "text": [
      "1\n",
      "туе елсе\n",
      "завжди помилка\n",
      "е\n",
      "спробуй ще\n",
      "ваша помилка: invalid literal for int() with base 10: 'е'\n",
      "завжди помилка\n"
     ]
    }
   ],
   "source": [
    "my_list = []\n",
    "while True:\n",
    "    n = input()\n",
    "    \n",
    "    if n == 'stop':\n",
    "        break\n",
    "    try:\n",
    "        my_list.append(int(n))\n",
    "    except Exception as e:  # при різних помилках можна виводити різні значення\n",
    "        print('спробуй ще')\n",
    "        print(f'ваша помилка: {e}')\n",
    "    except:\n",
    "        print('колись спрацює')\n",
    "    else:\n",
    "        print('туе елсе')\n",
    "    finally:\n",
    "        print('завжди помилка')\n",
    "my_list"
   ]
  },
  {
   "cell_type": "code",
   "execution_count": null,
   "metadata": {},
   "outputs": [],
   "source": []
  },
  {
   "cell_type": "code",
   "execution_count": null,
   "metadata": {},
   "outputs": [],
   "source": []
  }
 ],
 "metadata": {
  "kernelspec": {
   "display_name": "Python 3",
   "language": "python",
   "name": "python3"
  },
  "language_info": {
   "codemirror_mode": {
    "name": "ipython",
    "version": 3
   },
   "file_extension": ".py",
   "mimetype": "text/x-python",
   "name": "python",
   "nbconvert_exporter": "python",
   "pygments_lexer": "ipython3",
   "version": "3.7.6"
  }
 },
 "nbformat": 4,
 "nbformat_minor": 4
}
