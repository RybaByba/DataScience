{
 "cells": [
  {
   "cell_type": "code",
   "execution_count": 1,
   "metadata": {},
   "outputs": [
    {
     "name": "stdout",
     "output_type": "stream",
     "text": [
      "введіть 10 чисел >>> 1,2,3,4,5,6,7,8,9,10\n",
      "3628800\n",
      "Sum =  {55}\n",
      "Mult =  {3628800}\n",
      "Mediana =  {5.5}\n"
     ]
    }
   ],
   "source": [
    "mult = 1\n",
    "user_list = input('введіть 10 чисел >>> ')\n",
    "\n",
    "numbers = map(int, user_list.split(','))\n",
    "numbers_list = list(numbers)\n",
    "\n",
    "suma = sum(numbers_list)\n",
    "\n",
    "for i in numbers_list:\n",
    "    mult *= i\n",
    "\n",
    "print(mult)\n",
    "\n",
    "mediana = ((numbers_list[4]+numbers_list[5]) / 2)\n",
    "print(f'Sum = ', {suma})\n",
    "print(f'Mult = ', {mult})\n",
    "print(f'Mediana = ', {mediana})"
   ]
  },
  {
   "cell_type": "code",
   "execution_count": null,
   "metadata": {},
   "outputs": [],
   "source": []
  }
 ],
 "metadata": {
  "kernelspec": {
   "display_name": "Python 3",
   "language": "python",
   "name": "python3"
  },
  "language_info": {
   "codemirror_mode": {
    "name": "ipython",
    "version": 3
   },
   "file_extension": ".py",
   "mimetype": "text/x-python",
   "name": "python",
   "nbconvert_exporter": "python",
   "pygments_lexer": "ipython3",
   "version": "3.7.6"
  }
 },
 "nbformat": 4,
 "nbformat_minor": 4
}
