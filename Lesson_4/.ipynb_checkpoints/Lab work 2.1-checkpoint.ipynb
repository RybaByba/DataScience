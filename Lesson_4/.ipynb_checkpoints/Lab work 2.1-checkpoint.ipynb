{
 "cells": [
  {
   "cell_type": "markdown",
   "metadata": {},
   "source": [
    "___\n",
    "\n",
    "<a href='https://mainacademy.ua/'> <img src='https://mainacademy.ua/wp-content/uploads/2019/03/logo-main.png' alt = 'Хмм, щось з інтернетом'/></a>\n",
    "___\n",
    "\n",
    "# Module 2: Basic Python"
   ]
  },
  {
   "cell_type": "markdown",
   "metadata": {},
   "source": [
    "## Lab work 2.1\n",
    "\n"
   ]
  },
  {
   "cell_type": "markdown",
   "metadata": {},
   "source": [
    "#### Мета: \n",
    "\n",
    "* навчитися працювати із основними типами та структурами даних в Python;\n",
    "* ознайомитися із базовими алгоритмами;"
   ]
  },
  {
   "cell_type": "markdown",
   "metadata": {},
   "source": [
    "#### Завдання 1"
   ]
  },
  {
   "cell_type": "markdown",
   "metadata": {},
   "source": [
    "Обчислити площу трикутника, коли відома сторона та проведена висота до неї"
   ]
  },
  {
   "cell_type": "code",
   "execution_count": 1,
   "metadata": {},
   "outputs": [
    {
     "name": "stdout",
     "output_type": "stream",
     "text": [
      "4\n",
      "6\n",
      "12.0\n"
     ]
    }
   ],
   "source": [
    "a = int(input())\n",
    "h = int(input())\n",
    "s = 1/2 * a * h\n",
    "print (s)\n",
    "\n",
    "\n"
   ]
  },
  {
   "cell_type": "markdown",
   "metadata": {},
   "source": [
    "#### Завдання 2"
   ]
  },
  {
   "cell_type": "markdown",
   "metadata": {},
   "source": [
    "Дано трицифрове число. Виведіть окремо кожну цифру числа та суми цифр число\n",
    "\n",
    "Реалізуйте завдання двома способами (використовуючи стрічки та оператори `%`, `//`)"
   ]
  },
  {
   "cell_type": "code",
   "execution_count": 1,
   "metadata": {},
   "outputs": [
    {
     "name": "stdout",
     "output_type": "stream",
     "text": [
      "write three-digit numbers >>> 123\n",
      "\n",
      "1\n",
      "2\n",
      "3\n",
      "sum = 6\n",
      "\n"
     ]
    }
   ],
   "source": [
    "N = input('write three-digit numbers >>> ')\n",
    "a = str(N)\n",
    "b = int(a[0])\n",
    "c = int(a[1])\n",
    "d = int(a[-1])\n",
    "sum = b + c + d\n",
    " \n",
    "print(f\"\"\"\n",
    "{b}\n",
    "{c}\n",
    "{d}\n",
    "sum = {sum}\n",
    "\"\"\")"
   ]
  },
  {
   "cell_type": "code",
   "execution_count": 2,
   "metadata": {},
   "outputs": [
    {
     "name": "stdout",
     "output_type": "stream",
     "text": [
      "write three-digit numbers >>> 123\n",
      "\n",
      "1\n",
      "2\n",
      "3\n",
      "sum = 6\n",
      "\n"
     ]
    }
   ],
   "source": [
    "N = int(input('write three-digit numbers >>> '))\n",
    "a = N // 100\n",
    "b = N % 11\n",
    "c = N % 10\n",
    "sum = a + b + c\n",
    "\n",
    "print(f\"\"\"\n",
    "{a}\n",
    "{b}\n",
    "{c}\n",
    "sum = {sum}\n",
    "\"\"\")\n",
    "\n",
    "\n"
   ]
  },
  {
   "cell_type": "markdown",
   "metadata": {},
   "source": [
    "#### Завдання 3"
   ]
  },
  {
   "cell_type": "markdown",
   "metadata": {},
   "source": [
    "Дано речення (стрічка). \n",
    "* Розбийте речення по словах і помістіть їх у список. \n",
    "* Виведіть кількість слів у речені.\n",
    "* Утворіть нове речення, що складається з першого та останнього слова із початкового речення."
   ]
  },
  {
   "cell_type": "code",
   "execution_count": 21,
   "metadata": {},
   "outputs": [
    {
     "name": "stdout",
     "output_type": "stream",
     "text": [
      "['My', 'favourite', 'tutor', 'in', 'academy', 'is', 'Ihor']\n"
     ]
    }
   ],
   "source": [
    "sentence = 'My favourite tutor in academy is Ihor'\n",
    "new_list = sentence.split(' ')\n",
    "print(new_list)"
   ]
  },
  {
   "cell_type": "code",
   "execution_count": 21,
   "metadata": {},
   "outputs": [
    {
     "name": "stdout",
     "output_type": "stream",
     "text": [
      "7\n"
     ]
    }
   ],
   "source": [
    "print(len(new_list))"
   ]
  },
  {
   "cell_type": "code",
   "execution_count": 40,
   "metadata": {},
   "outputs": [
    {
     "name": "stdout",
     "output_type": "stream",
     "text": [
      "['My', 'Ihor']\n"
     ]
    }
   ],
   "source": [
    "sentence_new = [new_list[0],new_list[-1]]\n",
    "print(sentence_new)"
   ]
  },
  {
   "cell_type": "markdown",
   "metadata": {},
   "source": [
    "#### Завдання 4"
   ]
  },
  {
   "cell_type": "markdown",
   "metadata": {},
   "source": [
    "Перевірте, чи справджується формула: $$ sin^2x + cos^2x = 1$$\n",
    "\n",
    "Напишіть код, що реалізує цю формулу. Нагадую, що тригонометричні функції приймають аргументи в радіанній мірі"
   ]
  },
  {
   "cell_type": "code",
   "execution_count": 3,
   "metadata": {
    "scrolled": true
   },
   "outputs": [
    {
     "name": "stdout",
     "output_type": "stream",
     "text": [
      "write a number >>> 90\n",
      "\n",
      "cos 90 = 0.0\n",
      "sin 90 = 1.0\n",
      "formula sin**2x + cos**2x = 1.0\n",
      "\n"
     ]
    }
   ],
   "source": [
    "x = int(input('write a number >>> '))\n",
    "\n",
    "import math\n",
    "\n",
    "cos = math.cos(math.radians(x))\n",
    "sin = math.sin(math.radians(x))\n",
    "sumf = sin**2 + cos**2\n",
    "\n",
    "print( f'''\n",
    "cos {x} = {round(cos, 2)}\n",
    "sin {x} = {round(sin, 2)}\n",
    "formula sin**2x + cos**2x = {sumf}\n",
    "''')\n"
   ]
  },
  {
   "cell_type": "markdown",
   "metadata": {},
   "source": [
    "#### Завдання 5"
   ]
  },
  {
   "cell_type": "markdown",
   "metadata": {},
   "source": [
    "Напишіть програму для обчислення коренів квадратного рівняння.\n",
    "\n",
    "Нагадую, що `n`-го степеня має `n` коренів. (Корені можуть бути комплексні)"
   ]
  },
  {
   "cell_type": "code",
   "execution_count": 13,
   "metadata": {},
   "outputs": [
    {
     "name": "stdout",
     "output_type": "stream",
     "text": [
      "write a number \"a\">>> 4\n",
      "write a number \"b\">>> 1\n",
      "write a number \"c\">>> 2\n",
      "discriminant =  -31.0\n",
      "Negative discrimination - there are no valid roots. But there are complex roots.\n",
      "x₁ =  (-0.12499999999999996+0.6959705453537527j)\n",
      "x₂ =  (-0.12500000000000006-0.6959705453537527j)\n"
     ]
    }
   ],
   "source": [
    "import cmath\n",
    "\n",
    "a = int(input('write a number \"a\">>> '))\n",
    "b = int(input('write a number \"b\">>> '))\n",
    "c = int(input('write a number \"c\">>> '))\n",
    "a = float(a)\n",
    "b = float(b)\n",
    "c = float(c)\n",
    "discriminant = b**2 - 4*a*c\n",
    "print(f'discriminant = ', discriminant)\n",
    "\n",
    "if discriminant < 0:\n",
    "    print('Negative discrimination - there are no valid roots. But there are complex roots.')\n",
    "    x1 = (-b + discriminant ** 0.5) / (2 * a)\n",
    "    x2 = (-b - discriminant ** 0.5) / (2 * a)\n",
    "    print(f'x₁ = ', x1)\n",
    "    print(f'x₂ = ', x2)\n",
    "    \n",
    "elif discriminant == 0:\n",
    "    x = -b / (2 * a)\n",
    "    print(f'x = ', x)\n",
    "    \n",
    "else:\n",
    "    x1 = (-b + discriminant ** 0.5) / (2 * a)\n",
    "    x2 = (-b - discriminant ** 0.5) / (2 * a)\n",
    "    print(f'x₁ = ', x1)\n",
    "    print(f'x₂ = ', x2)\n",
    "    \n",
    "    "
   ]
  },
  {
   "cell_type": "markdown",
   "metadata": {},
   "source": [
    "#### Завдання 6"
   ]
  },
  {
   "cell_type": "markdown",
   "metadata": {},
   "source": [
    "Напишіть програму, що виводить речення: <i>\"Діаметр планети `Planet` дорівнює` Diament`\"</i>, \n",
    "\n",
    "де `Planet` та `Diament` вводить користувач"
   ]
  },
  {
   "cell_type": "code",
   "execution_count": 15,
   "metadata": {},
   "outputs": [
    {
     "name": "stdout",
     "output_type": "stream",
     "text": [
      "write a Planet >>> Mars\n",
      "write a Diametr >>> 100\n",
      "The Mars's diameter is  100\n"
     ]
    }
   ],
   "source": [
    "planet = input('write a Planet >>> ')\n",
    "diametr = input('write a Diametr >>> ')\n",
    "print(f\"The {planet}'s diameter is \", diametr )"
   ]
  }
 ],
 "metadata": {
  "kernelspec": {
   "display_name": "Python 3",
   "language": "python",
   "name": "python3"
  },
  "language_info": {
   "codemirror_mode": {
    "name": "ipython",
    "version": 3
   },
   "file_extension": ".py",
   "mimetype": "text/x-python",
   "name": "python",
   "nbconvert_exporter": "python",
   "pygments_lexer": "ipython3",
   "version": "3.7.6"
  }
 },
 "nbformat": 4,
 "nbformat_minor": 2
}
