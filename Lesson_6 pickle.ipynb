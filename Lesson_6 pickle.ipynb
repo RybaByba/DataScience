{
 "cells": [
  {
   "cell_type": "code",
   "execution_count": 1,
   "metadata": {},
   "outputs": [
    {
     "data": {
      "text/plain": [
       "<_io.TextIOWrapper name='text.txt' mode='r' encoding='cp1251'>"
      ]
     },
     "execution_count": 1,
     "metadata": {},
     "output_type": "execute_result"
    }
   ],
   "source": [
    "#\n",
    "f = open('text.txt')\n",
    "# f = open(r'text.txt') # зчитує усе і абсолютний шлях\n",
    "f"
   ]
  },
  {
   "cell_type": "code",
   "execution_count": null,
   "metadata": {},
   "outputs": [],
   "source": [
    "# encoding=UTF8 # якщо не зчитеється"
   ]
  },
  {
   "cell_type": "code",
   "execution_count": 1,
   "metadata": {},
   "outputs": [
    {
     "name": "stdout",
     "output_type": "stream",
     "text": [
      "['123aaa bbbbbb\\n', ' Hello word!']\n"
     ]
    }
   ],
   "source": [
    "f = open(r'text.txt')\n",
    "l = f.readlines()\n",
    "print(l)\n",
    "f.close() #зберігатиме усі результати"
   ]
  },
  {
   "cell_type": "code",
   "execution_count": 2,
   "metadata": {},
   "outputs": [
    {
     "name": "stdout",
     "output_type": "stream",
     "text": [
      "123aaa bbbbbb\n",
      "\n",
      " Hello word!\n"
     ]
    }
   ],
   "source": [
    "f = open(r'text.txt')\n",
    "for line in f:\n",
    "    print(line)\n",
    "    \n",
    "f.close()"
   ]
  },
  {
   "cell_type": "code",
   "execution_count": 3,
   "metadata": {},
   "outputs": [
    {
     "name": "stdout",
     "output_type": "stream",
     "text": [
      "123aaa bbbbbb\n",
      "\n",
      " Hello word!\n"
     ]
    }
   ],
   "source": [
    "for line in open(r'text.txt'):\n",
    "    print(line)"
   ]
  },
  {
   "cell_type": "code",
   "execution_count": 5,
   "metadata": {},
   "outputs": [
    {
     "name": "stdout",
     "output_type": "stream",
     "text": [
      "Hello word!!!\n",
      "\n",
      "Hello word 2!!!\n",
      "\n"
     ]
    }
   ],
   "source": [
    "with open(r'text.txt') as f:\n",
    "    print(f.read(10)) # 10 це перші 10 символів"
   ]
  },
  {
   "cell_type": "code",
   "execution_count": 1,
   "metadata": {},
   "outputs": [
    {
     "name": "stdout",
     "output_type": "stream",
     "text": [
      "\n"
     ]
    }
   ],
   "source": [
    "with open('text.txt', 'w') as f: # перезаписує файл, якщо нічого, то буде пустий файл\n",
    "    print()"
   ]
  },
  {
   "cell_type": "code",
   "execution_count": 2,
   "metadata": {},
   "outputs": [],
   "source": [
    "with open('text.txt', 'w') as f: # перезаписує файл\n",
    "    f.write('aaaaaa bbbbbb')"
   ]
  },
  {
   "cell_type": "code",
   "execution_count": 4,
   "metadata": {},
   "outputs": [],
   "source": [
    "with open('text.txt', 'a') as f: # додає текст в одну строчку\n",
    "    f.write(' Hello word')"
   ]
  },
  {
   "cell_type": "code",
   "execution_count": 5,
   "metadata": {},
   "outputs": [],
   "source": [
    "with open('text.txt', 'a') as f: # додає текст на наступну строчку\n",
    "    f.write('\\n' + ' Hello word!')"
   ]
  },
  {
   "cell_type": "code",
   "execution_count": 5,
   "metadata": {},
   "outputs": [],
   "source": [
    "with open('text.txt', 'r+') as f: #   'r+' додає в початок, але не прінтує на екран\n",
    "    \n",
    "    f.write('123')\n"
   ]
  },
  {
   "cell_type": "code",
   "execution_count": 5,
   "metadata": {},
   "outputs": [
    {
     "name": "stdout",
     "output_type": "stream",
     "text": [
      "\n"
     ]
    }
   ],
   "source": [
    "# записати новий файл \n",
    "with open('text1.txt', 'w') as a:\n",
    "    print()\n"
   ]
  },
  {
   "cell_type": "code",
   "execution_count": 10,
   "metadata": {},
   "outputs": [],
   "source": [
    "import pickle\n",
    "\n",
    "new_dict = {\"a\" : 20, \"b\" : 30, \"c\" : [10,20]}\n",
    "\n",
    "with open('db.pickle', 'wb') as f: # pickle працює в бінарному режимі dump записує структуру у файл\n",
    "    pickle.dump(new_dict, f)\n"
   ]
  },
  {
   "cell_type": "code",
   "execution_count": 2,
   "metadata": {},
   "outputs": [
    {
     "data": {
      "text/plain": [
       "('Hello', 'user', '!')"
      ]
     },
     "execution_count": 2,
     "metadata": {},
     "output_type": "execute_result"
    }
   ],
   "source": [
    "import pickle\n",
    "\n",
    "with open('mydb.pickle', 'rb') as f: # pickle працює в бінарному режимі dump записує структуру у файл\n",
    "    second_dir = pickle.load(f)\n",
    "second_dir"
   ]
  },
  {
   "cell_type": "code",
   "execution_count": 4,
   "metadata": {},
   "outputs": [
    {
     "name": "stdout",
     "output_type": "stream",
     "text": [
      "{'B81410': ['Антифриз BIZOL G11 синий (концентрант) 1л', 'В наличии', 183.0], 'B81411': ['Антифриз BIZOL G11 синий (концентрант) 5л', 'В наличии', 757.0], 'B81430': ['Антифриз BIZOL G12+ красный (концентрант) 1л', 'В наличии', 192.0], 'B81431': ['Антифриз BIZOL G12+ красный (концентрант) 5л', 'В наличии', 798.0], 'CS RADICOOL SF 1L': ['Антифриз Castrol RADICOOL G12+ красный (концентрант) 1 л', 'В наличии', 189.0], '2374': ['Антифриз FEBI G11 желтый (концентрант) 1.5 л', 'В наличии', 216.0], '1089': ['Антифриз FEBI G11 синий (концентрант) 1.5 л', 'В наличии', 175.0], '1381': ['Антифриз FEBI G12 красный (концентрант) 1.5 л', 'В наличии', 190.0], '19400': ['Антифриз FEBI G12+ фиолетовый (концентрат) 1.5 л', 'В наличии', 197.0]}\n"
     ]
    },
    {
     "data": {
      "text/plain": [
       "9"
      ]
     },
     "execution_count": 4,
     "metadata": {},
     "output_type": "execute_result"
    }
   ],
   "source": [
    "f = open('base.txt', encoding = 'utf-8')\n",
    "\n",
    "base_dict = {}\n",
    "\n",
    "for line in f:\n",
    "    l = line.split('|')\n",
    "    if l[0] != 'Артикул':\n",
    "        base_dict[l[0]] = [l[1], l[2], float(l[3].rstrip(' грн\\n'))]\n",
    "print(base_dict)\n",
    "len(base_dict)"
   ]
  },
  {
   "cell_type": "code",
   "execution_count": 5,
   "metadata": {},
   "outputs": [
    {
     "name": "stdout",
     "output_type": "stream",
     "text": [
      "Кількість товару в наявності = 9\n"
     ]
    }
   ],
   "source": [
    "i = 0\n",
    "for k,v in base_dict.items():\n",
    "    if v[1] == 'В наличии':\n",
    "        i = i + 1\n",
    "        \n",
    "print('Кількість товару в наявності =', i)"
   ]
  },
  {
   "cell_type": "code",
   "execution_count": 9,
   "metadata": {},
   "outputs": [
    {
     "data": {
      "text/plain": [
       "'B81431'"
      ]
     },
     "execution_count": 9,
     "metadata": {},
     "output_type": "execute_result"
    }
   ],
   "source": [
    "max(base_dict, key = lambda el: base_dict[el][2])"
   ]
  },
  {
   "cell_type": "code",
   "execution_count": 12,
   "metadata": {},
   "outputs": [
    {
     "name": "stdout",
     "output_type": "stream",
     "text": [
      "B81431 798.0\n"
     ]
    }
   ],
   "source": [
    "my_max = 0\n",
    "part = None\n",
    "for k,v in base_dict.items():\n",
    "    if my_max < v[2]:\n",
    "        my_max = v[2]\n",
    "        part = k\n",
    "print(part, my_max)\n"
   ]
  },
  {
   "cell_type": "code",
   "execution_count": 27,
   "metadata": {},
   "outputs": [],
   "source": [
    "import pickle\n",
    "\n",
    "with open('bdict.pickle', 'wb') as f:\n",
    "    pickle.dump(base_dict, f)"
   ]
  },
  {
   "cell_type": "code",
   "execution_count": 26,
   "metadata": {},
   "outputs": [
    {
     "name": "stdout",
     "output_type": "stream",
     "text": [
      "{'B81410': ['Антифриз BIZOL G11 синий (концентрант) 1л', 'В наличии', 183.0], 'B81411': ['Антифриз BIZOL G11 синий (концентрант) 5л', 'В наличии', 757.0], 'B81430': ['Антифриз BIZOL G12+ красный (концентрант) 1л', 'В наличии', 192.0], 'B81431': ['Антифриз BIZOL G12+ красный (концентрант) 5л', 'В наличии', 798.0], 'CS RADICOOL SF 1L': ['Антифриз Castrol RADICOOL G12+ красный (концентрант) 1 л', 'В наличии', 189.0], '2374': ['Антифриз FEBI G11 желтый (концентрант) 1.5 л', 'В наличии', 216.0], '1089': ['Антифриз FEBI G11 синий (концентрант) 1.5 л', 'В наличии', 175.0], '1381': ['Антифриз FEBI G12 красный (концентрант) 1.5 л', 'В наличии', 190.0], '19400': ['Антифриз FEBI G12+ фиолетовый (концентрат) 1.5 л', 'В наличии', 197.0]}\n"
     ]
    }
   ],
   "source": [
    "import pickle\n",
    "\n",
    "with open('bdict.pickle', 'rb') as f:\n",
    "    second_d = pickle.load(f)\n",
    "print(second_d)"
   ]
  },
  {
   "cell_type": "code",
   "execution_count": 28,
   "metadata": {},
   "outputs": [
    {
     "name": "stdout",
     "output_type": "stream",
     "text": [
      "write art >>> B81431\n",
      "['Антифриз BIZOL G12+ красный (концентрант) 5л', 'В наличии', 798.0]\n"
     ]
    }
   ],
   "source": [
    "art = input('write art >>> ')\n",
    "for k in base_dict: \n",
    "    if art == k:\n",
    "        print(base_dict[k])"
   ]
  },
  {
   "cell_type": "code",
   "execution_count": null,
   "metadata": {},
   "outputs": [],
   "source": [
    "шукає в словнику и виводить на екран"
   ]
  }
 ],
 "metadata": {
  "kernelspec": {
   "display_name": "Python 3",
   "language": "python",
   "name": "python3"
  },
  "language_info": {
   "codemirror_mode": {
    "name": "ipython",
    "version": 3
   },
   "file_extension": ".py",
   "mimetype": "text/x-python",
   "name": "python",
   "nbconvert_exporter": "python",
   "pygments_lexer": "ipython3",
   "version": "3.7.6"
  }
 },
 "nbformat": 4,
 "nbformat_minor": 4
}
