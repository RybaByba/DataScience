{
 "cells": [
  {
   "cell_type": "code",
   "execution_count": 14,
   "metadata": {
    "scrolled": false
   },
   "outputs": [],
   "source": [
    "import requests\n",
    "headers = {'User-Agent': 'Mozilla/5.0 (Macintosh; Intel Mac OS X 10_10_1) AppleWebKit/537.36 (KHTML, like Gecko) Chrome/39.0.2171.95 Safari/537.36'}\n",
    "words = ['study', 'school', 'universe']\n",
    "r = requests.get('https://www.google.com.ua/search?&=uniwerse', headers=headers)\n"
   ]
  },
  {
   "cell_type": "code",
   "execution_count": 15,
   "metadata": {},
   "outputs": [
    {
     "name": "stdout",
     "output_type": "stream",
     "text": [
      "<title>Google</title>\n"
     ]
    }
   ],
   "source": [
    "from bs4 import BeautifulSoup\n",
    "soup = BeautifulSoup(r.text, 'html.parser')\n",
    "print(soup.head.title)\n"
   ]
  },
  {
   "cell_type": "code",
   "execution_count": 8,
   "metadata": {},
   "outputs": [
    {
     "ename": "SyntaxError",
     "evalue": "invalid syntax (<ipython-input-8-ac75d046833c>, line 8)",
     "output_type": "error",
     "traceback": [
      "\u001b[1;36m  File \u001b[1;32m\"<ipython-input-8-ac75d046833c>\"\u001b[1;36m, line \u001b[1;32m8\u001b[0m\n\u001b[1;33m    if el['r030'] == cc\u001b[0m\n\u001b[1;37m                       ^\u001b[0m\n\u001b[1;31mSyntaxError\u001b[0m\u001b[1;31m:\u001b[0m invalid syntax\n"
     ]
    }
   ],
   "source": [
    "# для введеного куду валюти вивести курс\n",
    "import requests\n",
    "\n",
    "cc = input('введіть код валюти')\n",
    "r = requests.get('https://bank.gov.ua/NBUStatService/v1/statdirectory/exchange?json').json()\n",
    "\n",
    "for el['r030'] in r:\n",
    "    if el['r030'] == cc:\n",
    "        print(el['rate'])\n",
    "    \n",
    "print(f'курс валюти {cc} = ')\n",
    "\n",
    "# знайти валюту, в якої максимальний курс\n",
    "print(f'найдорожчий курс {name} = {rate}')\n",
    "\n"
   ]
  },
  {
   "cell_type": "code",
   "execution_count": 11,
   "metadata": {},
   "outputs": [
    {
     "name": "stdout",
     "output_type": "stream",
     "text": [
      "{'r030': 36, 'txt': 'Австралійський долар', 'rate': 20.9353, 'cc': 'AUD', 'exchangedate': '27.11.2020'}\n",
      "{'r030': 124, 'txt': 'Канадський долар', 'rate': 21.8766, 'cc': 'CAD', 'exchangedate': '27.11.2020'}\n",
      "{'r030': 156, 'txt': 'Юань Женьміньбі', 'rate': 4.3254, 'cc': 'CNY', 'exchangedate': '27.11.2020'}\n",
      "{'r030': 191, 'txt': 'Куна', 'rate': 4.48, 'cc': 'HRK', 'exchangedate': '27.11.2020'}\n",
      "{'r030': 203, 'txt': 'Чеська крона', 'rate': 1.295, 'cc': 'CZK', 'exchangedate': '27.11.2020'}\n",
      "{'r030': 208, 'txt': 'Данська крона', 'rate': 4.5477, 'cc': 'DKK', 'exchangedate': '27.11.2020'}\n",
      "{'r030': 344, 'txt': 'Гонконгівський долар', 'rate': 3.6697, 'cc': 'HKD', 'exchangedate': '27.11.2020'}\n",
      "{'r030': 348, 'txt': 'Форинт', 'rate': 0.093697, 'cc': 'HUF', 'exchangedate': '27.11.2020'}\n",
      "{'r030': 356, 'txt': 'Індійська рупія', 'rate': 0.38493, 'cc': 'INR', 'exchangedate': '27.11.2020'}\n",
      "{'r030': 360, 'txt': 'Рупія', 'rate': 0.0020166, 'cc': 'IDR', 'exchangedate': '27.11.2020'}\n",
      "{'r030': 376, 'txt': 'Новий ізраїльський шекель', 'rate': 8.5609, 'cc': 'ILS', 'exchangedate': '27.11.2020'}\n",
      "{'r030': 392, 'txt': 'Єна', 'rate': 0.27285, 'cc': 'JPY', 'exchangedate': '27.11.2020'}\n",
      "{'r030': 398, 'txt': 'Теньге', 'rate': 0.067338, 'cc': 'KZT', 'exchangedate': '27.11.2020'}\n",
      "{'r030': 410, 'txt': 'Вона', 'rate': 0.025751, 'cc': 'KRW', 'exchangedate': '27.11.2020'}\n",
      "{'r030': 484, 'txt': 'Мексиканське песо', 'rate': 1.4188, 'cc': 'MXN', 'exchangedate': '27.11.2020'}\n",
      "{'r030': 498, 'txt': 'Молдовський лей', 'rate': 1.6521, 'cc': 'MDL', 'exchangedate': '27.11.2020'}\n",
      "{'r030': 554, 'txt': 'Новозеландський долар', 'rate': 19.9085, 'cc': 'NZD', 'exchangedate': '27.11.2020'}\n",
      "{'r030': 578, 'txt': 'Норвезька крона', 'rate': 3.2037, 'cc': 'NOK', 'exchangedate': '27.11.2020'}\n",
      "{'r030': 643, 'txt': 'Російський рубль', 'rate': 0.37594, 'cc': 'RUB', 'exchangedate': '27.11.2020'}\n",
      "{'r030': 682, 'txt': 'Саудівський ріял', 'rate': 7.5835, 'cc': 'SAR', 'exchangedate': '27.11.2020'}\n",
      "{'r030': 702, 'txt': 'Сінгапурський долар', 'rate': 21.2482, 'cc': 'SGD', 'exchangedate': '27.11.2020'}\n",
      "{'r030': 710, 'txt': 'Ренд', 'rate': 1.8688, 'cc': 'ZAR', 'exchangedate': '27.11.2020'}\n",
      "{'r030': 752, 'txt': 'Шведська крона', 'rate': 3.3316, 'cc': 'SEK', 'exchangedate': '27.11.2020'}\n",
      "{'r030': 756, 'txt': 'Швейцарський франк', 'rate': 31.3092, 'cc': 'CHF', 'exchangedate': '27.11.2020'}\n",
      "{'r030': 818, 'txt': 'Єгипетський фунт', 'rate': 1.8162, 'cc': 'EGP', 'exchangedate': '27.11.2020'}\n",
      "{'r030': 826, 'txt': 'Фунт стерлінгів', 'rate': 37.9711, 'cc': 'GBP', 'exchangedate': '27.11.2020'}\n",
      "{'r030': 840, 'txt': 'Долар США', 'rate': 28.4428, 'cc': 'USD', 'exchangedate': '27.11.2020'}\n",
      "{'r030': 933, 'txt': 'Білоруський рубль', 'rate': 11.1092, 'cc': 'BYN', 'exchangedate': '27.11.2020'}\n",
      "{'r030': 944, 'txt': 'Азербайджанський манат', 'rate': 16.7311, 'cc': 'AZN', 'exchangedate': '27.11.2020'}\n",
      "{'r030': 946, 'txt': 'Румунський лей', 'rate': 6.944, 'cc': 'RON', 'exchangedate': '27.11.2020'}\n",
      "{'r030': 949, 'txt': 'Турецька ліра', 'rate': 3.6039, 'cc': 'TRY', 'exchangedate': '27.11.2020'}\n",
      "{'r030': 960, 'txt': 'СПЗ (спеціальні права запозичення)', 'rate': 40.5678, 'cc': 'XDR', 'exchangedate': '27.11.2020'}\n",
      "{'r030': 975, 'txt': 'Болгарський лев', 'rate': 17.3083, 'cc': 'BGN', 'exchangedate': '27.11.2020'}\n",
      "{'r030': 978, 'txt': 'Євро', 'rate': 33.8455, 'cc': 'EUR', 'exchangedate': '27.11.2020'}\n",
      "{'r030': 985, 'txt': 'Злотий', 'rate': 7.5632, 'cc': 'PLN', 'exchangedate': '27.11.2020'}\n",
      "{'r030': 12, 'txt': 'Алжирський динар', 'rate': 0.22, 'cc': 'DZD', 'exchangedate': '27.11.2020'}\n",
      "{'r030': 50, 'txt': 'Така', 'rate': 0.3355, 'cc': 'BDT', 'exchangedate': '27.11.2020'}\n",
      "{'r030': 51, 'txt': 'Вірменський драм', 'rate': 0.057639, 'cc': 'AMD', 'exchangedate': '27.11.2020'}\n",
      "{'r030': 364, 'txt': 'Іранський ріал', 'rate': 0.0006774, 'cc': 'IRR', 'exchangedate': '27.11.2020'}\n",
      "{'r030': 368, 'txt': 'Іракський динар', 'rate': 0.023908, 'cc': 'IQD', 'exchangedate': '27.11.2020'}\n",
      "{'r030': 417, 'txt': 'Сом', 'rate': 0.34781, 'cc': 'KGS', 'exchangedate': '27.11.2020'}\n",
      "{'r030': 422, 'txt': 'Ліванський фунт', 'rate': 0.018873, 'cc': 'LBP', 'exchangedate': '27.11.2020'}\n",
      "{'r030': 434, 'txt': 'Лівійський динар', 'rate': 20.8506, 'cc': 'LYD', 'exchangedate': '27.11.2020'}\n",
      "{'r030': 458, 'txt': 'Малайзійський ринггіт', 'rate': 6.8478, 'cc': 'MYR', 'exchangedate': '27.11.2020'}\n",
      "{'r030': 504, 'txt': 'Марокканський дирхам', 'rate': 3.0924, 'cc': 'MAD', 'exchangedate': '27.11.2020'}\n",
      "{'r030': 704, 'txt': 'Донг', 'rate': 0.0012275, 'cc': 'VND', 'exchangedate': '27.11.2020'}\n",
      "{'r030': 764, 'txt': 'Бат', 'rate': 0.91314, 'cc': 'THB', 'exchangedate': '27.11.2020'}\n",
      "{'r030': 784, 'txt': 'Дирхам ОАЕ', 'rate': 7.7459, 'cc': 'AED', 'exchangedate': '27.11.2020'}\n",
      "{'r030': 788, 'txt': 'Туніський динар', 'rate': 10.274, 'cc': 'TND', 'exchangedate': '27.11.2020'}\n",
      "{'r030': 860, 'txt': 'Узбецький сум', 'rate': 0.0027462, 'cc': 'UZS', 'exchangedate': '27.11.2020'}\n",
      "{'r030': 901, 'txt': 'Новий тайванський долар', 'rate': 0.99541, 'cc': 'TWD', 'exchangedate': '27.11.2020'}\n",
      "{'r030': 934, 'txt': 'Туркменський новий манат', 'rate': 8.1288, 'cc': 'TMT', 'exchangedate': '27.11.2020'}\n",
      "{'r030': 936, 'txt': 'Ганське седі', 'rate': 4.8872, 'cc': 'GHS', 'exchangedate': '27.11.2020'}\n",
      "{'r030': 941, 'txt': 'Сербський динар', 'rate': 0.28279, 'cc': 'RSD', 'exchangedate': '27.11.2020'}\n",
      "{'r030': 972, 'txt': 'Сомоні', 'rate': 2.7516, 'cc': 'TJS', 'exchangedate': '27.11.2020'}\n",
      "{'r030': 981, 'txt': 'Ларі', 'rate': 8.805, 'cc': 'GEL', 'exchangedate': '27.11.2020'}\n",
      "{'r030': 986, 'txt': 'Бразильський реал', 'rate': 4.9229, 'cc': 'BRL', 'exchangedate': '27.11.2020'}\n",
      "{'r030': 959, 'txt': 'Золото', 'rate': 51577.04, 'cc': 'XAU', 'exchangedate': '27.11.2020'}\n",
      "{'r030': 961, 'txt': 'Срібло', 'rate': 664.24, 'cc': 'XAG', 'exchangedate': '27.11.2020'}\n",
      "{'r030': 962, 'txt': 'Платина', 'rate': 27393.83, 'cc': 'XPT', 'exchangedate': '27.11.2020'}\n",
      "{'r030': 964, 'txt': 'Паладій', 'rate': 67263.81, 'cc': 'XPD', 'exchangedate': '27.11.2020'}\n"
     ]
    }
   ],
   "source": [
    "import requests\n",
    "r = requests.get('https://bank.gov.ua/NBUStatService/v1/statdirectory/exchange?json').json()\n",
    "for el in r:\n",
    "    print(el)"
   ]
  },
  {
   "cell_type": "code",
   "execution_count": null,
   "metadata": {},
   "outputs": [],
   "source": []
  },
  {
   "cell_type": "code",
   "execution_count": null,
   "metadata": {},
   "outputs": [],
   "source": []
  }
 ],
 "metadata": {
  "kernelspec": {
   "display_name": "Python 3",
   "language": "python",
   "name": "python3"
  },
  "language_info": {
   "codemirror_mode": {
    "name": "ipython",
    "version": 3
   },
   "file_extension": ".py",
   "mimetype": "text/x-python",
   "name": "python",
   "nbconvert_exporter": "python",
   "pygments_lexer": "ipython3",
   "version": "3.7.6"
  }
 },
 "nbformat": 4,
 "nbformat_minor": 4
}
