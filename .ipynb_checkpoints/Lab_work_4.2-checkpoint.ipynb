{
 "cells": [
  {
   "cell_type": "markdown",
   "metadata": {},
   "source": [
    "# Lab work 4.2 - Module 4: Work with data professionaly\n",
    "\n",
    "## Завдання 0\n",
    "1. підключитися до бази, яку пропонують\n",
    "2. вивести інформацію про базу даних\n",
    "3. вивести перелік всіх таблиць"
   ]
  },
  {
   "cell_type": "code",
   "execution_count": 65,
   "metadata": {},
   "outputs": [
    {
     "name": "stdout",
     "output_type": "stream",
     "text": [
      "[('table', 'Customers', 'Customers', 2, 'CREATE TABLE Customers\\n(\\n  cust_id      char(10)  NOT NULL ,\\n  cust_name    char(50)  NOT NULL ,\\n  cust_address char(50)  NULL ,\\n  cust_city    char(50)  NULL ,\\n  cust_state   char(5)   NULL ,\\n  cust_zip     char(10)  NULL ,\\n  cust_country char(50)  NULL ,\\n  cust_contact char(50)  NULL ,\\n  cust_email   char(255) NULL ,\\n  PRIMARY KEY (cust_id)\\n)'), ('index', 'sqlite_autoindex_Customers_1', 'Customers', 3, None), ('table', 'OrderItems', 'OrderItems', 4, 'CREATE TABLE OrderItems\\n(\\n  order_num  int          NOT NULL                      ,\\n  order_item int          NOT NULL                      ,\\n  prod_id    char(10)     NOT NULL                      ,\\n  quantity   int          NOT NULL                      ,\\n  item_price decimal(8,2) NOT NULL                      ,\\n  PRIMARY KEY (order_num, order_item)                   ,\\n  FOREIGN KEY (order_num) REFERENCES Orders (order_num) ,\\n  FOREIGN KEY (prod_id) REFERENCES Products (prod_id)\\n)'), ('index', 'sqlite_autoindex_OrderItems_1', 'OrderItems', 5, None), ('table', 'Orders', 'Orders', 7, 'CREATE TABLE Orders\\n(\\n  order_num  int      NOT NULL ,\\n  order_date datetime NOT NULL ,\\n  cust_id    char(10) NOT NULL ,\\n  PRIMARY KEY (order_num)      ,\\n  FOREIGN KEY (cust_id) REFERENCES Customers (cust_id)\\n)'), ('index', 'sqlite_autoindex_Orders_1', 'Orders', 9, None), ('table', 'Products', 'Products', 10, 'CREATE TABLE Products\\n(\\n  prod_id    char(10)      NOT NULL ,\\n  vend_id    char(10)      NOT NULL ,\\n  prod_name  char(255)     NOT NULL ,\\n  prod_price decimal(8,2)  NOT NULL ,\\n  prod_desc  text          NULL     ,\\n  PRIMARY KEY (prod_id)             ,\\n  FOREIGN KEY (vend_id) REFERENCES Vendors (vend_id)\\n)'), ('index', 'sqlite_autoindex_Products_1', 'Products', 11, None), ('table', 'Vendors', 'Vendors', 12, 'CREATE TABLE Vendors\\n(\\n  vend_id      char(10) NOT NULL ,\\n  vend_name    char(50) NOT NULL ,\\n  vend_address char(50) NULL     ,\\n  vend_city    char(50) NULL     ,\\n  vend_state   char(5)  NULL     ,\\n  vend_zip     char(10) NULL     ,\\n  vend_country char(50) NULL     ,\\n  PRIMARY KEY (vend_id)\\n)'), ('index', 'sqlite_autoindex_Vendors_1', 'Vendors', 13, None)]\n"
     ]
    }
   ],
   "source": [
    "import sqlite3\n",
    "\n",
    "conn = sqlite3.connect('tysql.sqlite')\n",
    "curs = conn.cursor()\n",
    "\n",
    "text = (\"SELECT * FROM sqlite_master\")\n",
    "\n",
    "curs.execute(text)\n",
    "\n",
    "results = curs.fetchall()\n",
    "print(results)"
   ]
  },
  {
   "cell_type": "code",
   "execution_count": 66,
   "metadata": {},
   "outputs": [
    {
     "name": "stdout",
     "output_type": "stream",
     "text": [
      "('Customers',)\n",
      "('OrderItems',)\n",
      "('Orders',)\n",
      "('Products',)\n",
      "('Vendors',)\n"
     ]
    }
   ],
   "source": [
    "sql_text = (\"SELECT name FROM sqlite_master WHERE type='table';\")\n",
    "\n",
    "def result(sql_text):\n",
    "    conn = sqlite3.connect('tysql.sqlite')\n",
    "    curs = conn.cursor()\n",
    "    \n",
    "    curs.execute(sql_text)\n",
    "    \n",
    "    for row in curs.fetchall():\n",
    "        print(row)\n",
    "    conn.close()\n",
    "    \n",
    "result(sql_text)"
   ]
  },
  {
   "cell_type": "markdown",
   "metadata": {},
   "source": [
    "## Завдвння 1\n",
    "#### Написати інструкцію, що виводить наступну інформацію:\n",
    "1. Список всіх cust_id з таблиці Customers table\n",
    "2. Всю таблицю Customers table\n",
    "3. Список клієнтів (cust_name) відсортованих від Z до A\n",
    "4. Таблицю клієнтів та замовлень cust_id та order_num. Відсортувати по клієнту, потім по даті замовлень\n",
    "5. Таблицю (на основі items) з кількістю та вартістю товару. Відсортуйте в порядку спадання по кількості та вартості\n",
    "6. Товар (з таблиці Products), ціна якого становить 9,49\n",
    "7. Виведіть назву товару та ціну, яка лежить в діапазоні від 3 до 6. Відсортуйте результат по ціні в порядку зростання."
   ]
  },
  {
   "cell_type": "code",
   "execution_count": 4,
   "metadata": {},
   "outputs": [
    {
     "name": "stdout",
     "output_type": "stream",
     "text": [
      "('1000000001',)\n",
      "('1000000002',)\n",
      "('1000000003',)\n",
      "('1000000004',)\n",
      "('1000000005',)\n"
     ]
    }
   ],
   "source": [
    "script_1 = \"\"\"\n",
    "SELECT \n",
    "cust_id \n",
    "FROM Customers\n",
    "\"\"\"\n",
    "result(script_1)"
   ]
  },
  {
   "cell_type": "code",
   "execution_count": 5,
   "metadata": {},
   "outputs": [
    {
     "name": "stdout",
     "output_type": "stream",
     "text": [
      "('1000000001', 'Village Toys', '200 Maple Lane', 'Detroit', 'MI', '44444', 'USA', 'John Smith', 'sales@villagetoys.com')\n",
      "('1000000002', 'Kids Place', '333 South Lake Drive', 'Columbus', 'OH', '43333', 'USA', 'Michelle Green', None)\n",
      "('1000000003', 'Fun4All', '1 Sunny Place', 'Muncie', 'IN', '42222', 'USA', 'Jim Jones', 'jjones@fun4all.com')\n",
      "('1000000004', 'Fun4All', '829 Riverside Drive', 'Phoenix', 'AZ', '88888', 'USA', 'Denise L. Stephens', 'dstephens@fun4all.com')\n",
      "('1000000005', 'The Toy Store', '4545 53rd Street', 'Chicago', 'IL', '54545', 'USA', 'Kim Howard', None)\n"
     ]
    }
   ],
   "source": [
    "script_2 = \"\"\"\n",
    "SELECT * \n",
    "FROM Customers\n",
    "\"\"\"\n",
    "result(script_2)"
   ]
  },
  {
   "cell_type": "code",
   "execution_count": 6,
   "metadata": {},
   "outputs": [
    {
     "name": "stdout",
     "output_type": "stream",
     "text": [
      "('Fun4All',)\n",
      "('Fun4All',)\n",
      "('Kids Place',)\n",
      "('The Toy Store',)\n",
      "('Village Toys',)\n"
     ]
    }
   ],
   "source": [
    "script_3 = \"\"\"\n",
    "SELECT cust_name \n",
    "FROM Customers\n",
    "ORDER BY cust_name ASC\n",
    "\"\"\"\n",
    "result(script_3)"
   ]
  },
  {
   "cell_type": "code",
   "execution_count": 7,
   "metadata": {},
   "outputs": [
    {
     "name": "stdout",
     "output_type": "stream",
     "text": [
      "('1000000001', 20009)\n",
      "('1000000001', 20005)\n",
      "('1000000003', 20006)\n",
      "('1000000004', 20007)\n",
      "('1000000005', 20008)\n"
     ]
    }
   ],
   "source": [
    "script_4 = \"\"\"\n",
    "SELECT \n",
    "cust_id, order_num\n",
    "FROM Orders\n",
    "ORDER BY cust_id, order_date\n",
    "\"\"\"\n",
    "result(script_4)"
   ]
  },
  {
   "cell_type": "code",
   "execution_count": 8,
   "metadata": {},
   "outputs": [
    {
     "name": "stdout",
     "output_type": "stream",
     "text": [
      "(250, 2.49)\n",
      "(250, 2.49)\n",
      "(250, 2.49)\n",
      "(100, 10.99)\n",
      "(100, 5.49)\n",
      "(100, 2.99)\n",
      "(100, 2.99)\n",
      "(100, 2.99)\n",
      "(50, 11.49)\n",
      "(50, 4.49)\n",
      "(20, 5.99)\n",
      "(10, 11.99)\n",
      "(10, 8.99)\n",
      "(10, 3.49)\n",
      "(10, 3.49)\n",
      "(10, 3.49)\n",
      "(5, 11.99)\n",
      "(5, 4.99)\n"
     ]
    }
   ],
   "source": [
    "script_5 = \"\"\"\n",
    "SELECT \n",
    "quantity,item_price\n",
    "FROM OrderItems\n",
    "ORDER BY quantity DESC, item_price DESC\n",
    "\"\"\"\n",
    "result(script_5)"
   ]
  },
  {
   "cell_type": "code",
   "execution_count": 9,
   "metadata": {},
   "outputs": [
    {
     "name": "stdout",
     "output_type": "stream",
     "text": [
      "('RYL01', 'FNG01', 'King doll', 9.49, '12 inch king doll with royal garments and crown')\n",
      "('RYL02', 'FNG01', 'Queen doll', 9.49, '12 inch queen doll with royal garments and crown')\n"
     ]
    }
   ],
   "source": [
    "script_6 = \"\"\"\n",
    "SELECT * \n",
    "FROM Products\n",
    "WHERE prod_price = 9.49\n",
    "\"\"\"\n",
    "result(script_6)"
   ]
  },
  {
   "cell_type": "code",
   "execution_count": 10,
   "metadata": {},
   "outputs": [
    {
     "name": "stdout",
     "output_type": "stream",
     "text": [
      "('Fish bean bag toy', 3.49)\n",
      "('Bird bean bag toy', 3.49)\n",
      "('Rabbit bean bag toy', 3.49)\n",
      "('Raggedy Ann', 4.99)\n",
      "('8 inch teddy bear', 5.99)\n"
     ]
    }
   ],
   "source": [
    "script_7 = \"\"\"\n",
    "SELECT prod_name, prod_price  \n",
    "FROM Products\n",
    "WHERE prod_price BETWEEN 3 AND 6\n",
    "ORDER BY prod_price ASC\n",
    "\"\"\"\n",
    "result(script_7)"
   ]
  },
  {
   "cell_type": "markdown",
   "metadata": {},
   "source": [
    "## Завдання 2\n",
    "#### Написати інструкцію, що виводить наступну інформацію:\n",
    "1. Кількість товару, що було продано.\n",
    "2. Кількість найменувань товару, ціна яких більша 4.\n",
    "3. Розробити алгориттм для виведення 3-х найдорожчіх товарів.\n",
    "4. Підрахуйте кількість замовлень для кожно клієнта застосовуючи підзапити.\n",
    "5. Виведіть список клієнтів та їх замовлення, використовуючи JOIN.\n",
    "6. Зробіть два запити: список товарів ціна яких менша 5, та список товарів ціна яких більша або дорівнює 5. Використати UNION для об'єднання цих записів."
   ]
  },
  {
   "cell_type": "code",
   "execution_count": 34,
   "metadata": {},
   "outputs": [
    {
     "name": "stdout",
     "output_type": "stream",
     "text": [
      "('BNBG01', 360)\n",
      "('BNBG02', 360)\n",
      "('BNBG03', 360)\n",
      "('BR01', 120)\n",
      "('BR02', 10)\n",
      "('BR03', 165)\n",
      "('RGAN01', 55)\n",
      "('Загальна кількість проданого товару:', 1430)\n"
     ]
    }
   ],
   "source": [
    "# 1. Кількість товару, що було продано.\n",
    "script_1 = \"\"\"\n",
    "SELECT prod_id, SUM(quantity)\n",
    "FROM OrderItems\n",
    "GROUP BY prod_id\n",
    "\n",
    "UNION\n",
    "\n",
    "SELECT 'Загальна кількість проданого товару:', SUM(quantity)\n",
    "FROM OrderItems\n",
    "\"\"\"\n",
    "result(script_1)"
   ]
  },
  {
   "cell_type": "code",
   "execution_count": 39,
   "metadata": {},
   "outputs": [
    {
     "name": "stdout",
     "output_type": "stream",
     "text": [
      "(6,)\n"
     ]
    }
   ],
   "source": [
    "# 2. Кількість найменувань товару, кількість яких більша 4.\n",
    "script_2 = \"\"\"\n",
    "SELECT COUNT(prod_id)\n",
    "FROM Products\n",
    "WHERE prod_price > 4\n",
    "\"\"\"\n",
    "result(script_2)"
   ]
  },
  {
   "cell_type": "code",
   "execution_count": 13,
   "metadata": {},
   "outputs": [
    {
     "name": "stdout",
     "output_type": "stream",
     "text": [
      "(20006, 3, 'BR03', 10, 11.99)\n",
      "(20008, 2, 'BR03', 5, 11.99)\n"
     ]
    }
   ],
   "source": [
    "# Товари з максимальною вартістю\n",
    "script_3 = \"\"\"\n",
    "SELECT *\n",
    "FROM OrderItems\n",
    "WHERE item_price = (SELECT MAX(item_price)\n",
    "                    FROM OrderItems)\n",
    "\"\"\"\n",
    "result(script_3)"
   ]
  },
  {
   "cell_type": "code",
   "execution_count": 14,
   "metadata": {},
   "outputs": [
    {
     "name": "stdout",
     "output_type": "stream",
     "text": [
      "(20006, 3, 'BR03', 10, 11.99)\n",
      "(20008, 2, 'BR03', 5, 11.99)\n",
      "(20007, 1, 'BR03', 50, 11.49)\n"
     ]
    }
   ],
   "source": [
    "# Три найдорожчіх товари\n",
    "script_3 = \"\"\"\n",
    "SELECT *\n",
    "FROM OrderItems\n",
    "ORDER BY item_price DESC\n",
    "LIMIT 3\n",
    "\"\"\"\n",
    "result(script_3)"
   ]
  },
  {
   "cell_type": "code",
   "execution_count": 26,
   "metadata": {},
   "outputs": [
    {
     "name": "stdout",
     "output_type": "stream",
     "text": [
      "('1000000001', 2)\n",
      "('1000000003', 1)\n",
      "('1000000004', 1)\n",
      "('1000000005', 1)\n"
     ]
    }
   ],
   "source": [
    "# 4. Підрахуйте кількість замовлень для кожно клієнта.\n",
    "script_4 = \"\"\"\n",
    "SELECT cust_id, COUNT(order_num) \n",
    "FROM Orders\n",
    "GROUP BY cust_id\n",
    "\"\"\""
   ]
  },
  {
   "cell_type": "code",
   "execution_count": 40,
   "metadata": {},
   "outputs": [
    {
     "name": "stdout",
     "output_type": "stream",
     "text": [
      "('1000000001', 2)\n",
      "('1000000003', 1)\n",
      "('1000000004', 1)\n",
      "('1000000005', 1)\n"
     ]
    }
   ],
   "source": [
    "# 4. Підрахуйте кількість замовлень для кожно клієнта (застосовуючи підзапити).\n",
    "script_4 = \"\"\"\n",
    "SELECT cust_id, SUM(1)\n",
    "FROM (SELECT cust_id FROM Orders)\n",
    "GROUP BY cust_id\n",
    "\"\"\"\n",
    "result(script_4)\n"
   ]
  },
  {
   "cell_type": "code",
   "execution_count": 42,
   "metadata": {},
   "outputs": [
    {
     "name": "stdout",
     "output_type": "stream",
     "text": [
      "('Village Toys', 20005)\n",
      "('Fun4All', 20006)\n",
      "('Fun4All', 20007)\n",
      "('The Toy Store', 20008)\n",
      "('Village Toys', 20009)\n"
     ]
    }
   ],
   "source": [
    "# 5. Виведіть список клієнтів та їх замовлення, використовуючи JOIN.\n",
    "script_5 = \"\"\"\n",
    "SELECT cust_name, order_num\n",
    "FROM Orders\n",
    "JOIN Customers on Customers.cust_id=Orders.cust_id\n",
    "\"\"\"\n",
    "result(script_5)\n"
   ]
  },
  {
   "cell_type": "code",
   "execution_count": 64,
   "metadata": {},
   "outputs": [
    {
     "name": "stdout",
     "output_type": "stream",
     "text": [
      "('12 inch teddy bear', 8.99)\n",
      "('18 inch teddy bear', 11.99)\n",
      "('8 inch teddy bear', 5.99)\n",
      "('Bird bean bag toy', 3.49)\n",
      "('Fish bean bag toy', 3.49)\n",
      "('King doll', 9.49)\n",
      "('Queen doll', 9.49)\n",
      "('Rabbit bean bag toy', 3.49)\n",
      "('Raggedy Ann', 4.99)\n"
     ]
    }
   ],
   "source": [
    "# 6. Зробіть два запити: список товарів ціна яких менша 5, та список товарів ціна яких більша або дорівнює 5. \n",
    "#    Використати UNION для об'єднання цих записів.\n",
    "skript_6 = \"\"\"\n",
    "SELECT prod_name, prod_price\n",
    "FROM Products\n",
    "WHERE prod_price < 5\n",
    "\n",
    "UNION\n",
    "\n",
    "SELECT prod_name, prod_price\n",
    "FROM Products\n",
    "WHERE prod_price >= 5\n",
    "\n",
    "\"\"\"\n",
    "result(skript_6)"
   ]
  }
 ],
 "metadata": {
  "kernelspec": {
   "display_name": "Python 3",
   "language": "python",
   "name": "python3"
  },
  "language_info": {
   "codemirror_mode": {
    "name": "ipython",
    "version": 3
   },
   "file_extension": ".py",
   "mimetype": "text/x-python",
   "name": "python",
   "nbconvert_exporter": "python",
   "pygments_lexer": "ipython3",
   "version": "3.7.6"
  }
 },
 "nbformat": 4,
 "nbformat_minor": 4
}
